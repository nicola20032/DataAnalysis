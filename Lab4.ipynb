{
 "cells": [
  {
   "cell_type": "markdown",
   "id": "3bc28cc9",
   "metadata": {},
   "source": [
    "# Лабораторна робота 4\n",
    "Пшеничного Ніколи, ДО-3"
   ]
  },
  {
   "cell_type": "code",
   "execution_count": 3,
   "id": "ec285dcd",
   "metadata": {},
   "outputs": [],
   "source": [
    "library(psych)\n",
    "library(ggplot2)\n",
    "library(moments)\n",
    "library(gamlss)\n",
    "library(goftest)\n",
    "library(goft)\n",
    "library(qqplotr)\n",
    "library(car)\n",
    "library(corrplot)\n",
    "library(ggstatsplot)\n",
    "library(qgraph)\n",
    "library(modelr)\n",
    "library(lmtest)\n",
    "library(ggpubr)\n",
    "library(emmeans)"
   ]
  },
  {
   "cell_type": "code",
   "execution_count": 4,
   "id": "9012ae13",
   "metadata": {},
   "outputs": [],
   "source": [
    "data <- read.csv(\"/Users/nicol/OneDrive/Документы/Я у мамы программист/R/Lab4/CreditScoreClassificationDataset.csv\", header = TRUE)\n"
   ]
  },
  {
   "cell_type": "code",
   "execution_count": 5,
   "id": "337e1905",
   "metadata": {},
   "outputs": [
    {
     "name": "stdout",
     "output_type": "stream",
     "text": [
      "[1] \"Bachelor's Degree\"   \"Master's Degree\"     \"Doctorate\"          \n",
      "[4] \"High School Diploma\" \"Associate's Degree\" \n"
     ]
    }
   ],
   "source": [
    "unique_names <- unique(data$Education)\n",
    "print(unique_names)"
   ]
  },
  {
   "cell_type": "code",
   "execution_count": 6,
   "id": "f5da4633",
   "metadata": {},
   "outputs": [
    {
     "data": {
      "text/html": [
       "<table class=\"dataframe\">\n",
       "<caption>A data.frame: 164 × 8</caption>\n",
       "<thead>\n",
       "\t<tr><th scope=col>Age</th><th scope=col>Gender</th><th scope=col>Income</th><th scope=col>Education</th><th scope=col>Marital.Status</th><th scope=col>Number.of.Children</th><th scope=col>Home.Ownership</th><th scope=col>Credit.Score</th></tr>\n",
       "\t<tr><th scope=col>&lt;int&gt;</th><th scope=col>&lt;chr&gt;</th><th scope=col>&lt;int&gt;</th><th scope=col>&lt;chr&gt;</th><th scope=col>&lt;chr&gt;</th><th scope=col>&lt;int&gt;</th><th scope=col>&lt;chr&gt;</th><th scope=col>&lt;chr&gt;</th></tr>\n",
       "</thead>\n",
       "<tbody>\n",
       "\t<tr><td>25</td><td>Female</td><td> 50000</td><td>Bachelor</td><td>Single </td><td>0</td><td>Rented</td><td>High   </td></tr>\n",
       "\t<tr><td>30</td><td>Male  </td><td>100000</td><td>Master  </td><td>Married</td><td>2</td><td>Owned </td><td>High   </td></tr>\n",
       "\t<tr><td>35</td><td>Female</td><td> 75000</td><td>Doc     </td><td>Married</td><td>1</td><td>Owned </td><td>High   </td></tr>\n",
       "\t<tr><td>40</td><td>Male  </td><td>125000</td><td>HSD     </td><td>Single </td><td>0</td><td>Owned </td><td>High   </td></tr>\n",
       "\t<tr><td>45</td><td>Female</td><td>100000</td><td>Bachelor</td><td>Married</td><td>3</td><td>Owned </td><td>High   </td></tr>\n",
       "\t<tr><td>50</td><td>Male  </td><td>150000</td><td>Master  </td><td>Married</td><td>0</td><td>Owned </td><td>High   </td></tr>\n",
       "\t<tr><td>26</td><td>Female</td><td> 40000</td><td>AD      </td><td>Single </td><td>0</td><td>Rented</td><td>Average</td></tr>\n",
       "\t<tr><td>31</td><td>Male  </td><td> 60000</td><td>Bachelor</td><td>Single </td><td>0</td><td>Rented</td><td>Average</td></tr>\n",
       "\t<tr><td>36</td><td>Female</td><td> 80000</td><td>Master  </td><td>Married</td><td>2</td><td>Owned </td><td>High   </td></tr>\n",
       "\t<tr><td>41</td><td>Male  </td><td>105000</td><td>Doc     </td><td>Single </td><td>0</td><td>Owned </td><td>High   </td></tr>\n",
       "\t<tr><td>46</td><td>Female</td><td> 90000</td><td>HSD     </td><td>Married</td><td>1</td><td>Owned </td><td>High   </td></tr>\n",
       "\t<tr><td>51</td><td>Male  </td><td>135000</td><td>Bachelor</td><td>Married</td><td>0</td><td>Owned </td><td>High   </td></tr>\n",
       "\t<tr><td>27</td><td>Female</td><td> 35000</td><td>HSD     </td><td>Single </td><td>0</td><td>Rented</td><td>Low    </td></tr>\n",
       "\t<tr><td>32</td><td>Male  </td><td> 55000</td><td>AD      </td><td>Single </td><td>0</td><td>Rented</td><td>Average</td></tr>\n",
       "\t<tr><td>37</td><td>Female</td><td> 70000</td><td>Bachelor</td><td>Married</td><td>2</td><td>Owned </td><td>High   </td></tr>\n",
       "\t<tr><td>42</td><td>Male  </td><td> 95000</td><td>Master  </td><td>Single </td><td>0</td><td>Owned </td><td>High   </td></tr>\n",
       "\t<tr><td>47</td><td>Female</td><td> 85000</td><td>Doc     </td><td>Married</td><td>1</td><td>Owned </td><td>High   </td></tr>\n",
       "\t<tr><td>52</td><td>Male  </td><td>125000</td><td>HSD     </td><td>Married</td><td>0</td><td>Owned </td><td>High   </td></tr>\n",
       "\t<tr><td>28</td><td>Female</td><td> 30000</td><td>AD      </td><td>Single </td><td>0</td><td>Rented</td><td>Low    </td></tr>\n",
       "\t<tr><td>33</td><td>Male  </td><td> 50000</td><td>HSD     </td><td>Single </td><td>0</td><td>Rented</td><td>Average</td></tr>\n",
       "\t<tr><td>38</td><td>Female</td><td> 65000</td><td>Bachelor</td><td>Married</td><td>2</td><td>Owned </td><td>High   </td></tr>\n",
       "\t<tr><td>43</td><td>Male  </td><td> 80000</td><td>Master  </td><td>Single </td><td>0</td><td>Owned </td><td>High   </td></tr>\n",
       "\t<tr><td>48</td><td>Female</td><td> 70000</td><td>Doc     </td><td>Married</td><td>1</td><td>Owned </td><td>High   </td></tr>\n",
       "\t<tr><td>53</td><td>Male  </td><td>115000</td><td>AD      </td><td>Married</td><td>0</td><td>Owned </td><td>High   </td></tr>\n",
       "\t<tr><td>29</td><td>Female</td><td> 25000</td><td>HSD     </td><td>Single </td><td>0</td><td>Rented</td><td>Low    </td></tr>\n",
       "\t<tr><td>34</td><td>Male  </td><td> 45000</td><td>AD      </td><td>Single </td><td>0</td><td>Rented</td><td>Average</td></tr>\n",
       "\t<tr><td>39</td><td>Female</td><td> 60000</td><td>Bachelor</td><td>Married</td><td>2</td><td>Owned </td><td>High   </td></tr>\n",
       "\t<tr><td>44</td><td>Male  </td><td> 75000</td><td>Master  </td><td>Single </td><td>0</td><td>Owned </td><td>High   </td></tr>\n",
       "\t<tr><td>49</td><td>Female</td><td> 65000</td><td>Doc     </td><td>Married</td><td>1</td><td>Owned </td><td>High   </td></tr>\n",
       "\t<tr><td>25</td><td>Female</td><td> 55000</td><td>Bachelor</td><td>Single </td><td>0</td><td>Rented</td><td>Average</td></tr>\n",
       "\t<tr><td>⋮</td><td>⋮</td><td>⋮</td><td>⋮</td><td>⋮</td><td>⋮</td><td>⋮</td><td>⋮</td></tr>\n",
       "\t<tr><td>34</td><td>Male  </td><td>105000</td><td>Bachelor</td><td>Married</td><td>1</td><td>Rented</td><td>High   </td></tr>\n",
       "\t<tr><td>25</td><td>Female</td><td> 55000</td><td>Bachelor</td><td>Single </td><td>0</td><td>Rented</td><td>Average</td></tr>\n",
       "\t<tr><td>30</td><td>Male  </td><td>105000</td><td>Master  </td><td>Married</td><td>2</td><td>Owned </td><td>High   </td></tr>\n",
       "\t<tr><td>35</td><td>Female</td><td> 80000</td><td>Doc     </td><td>Married</td><td>1</td><td>Owned </td><td>High   </td></tr>\n",
       "\t<tr><td>40</td><td>Male  </td><td>130000</td><td>HSD     </td><td>Single </td><td>0</td><td>Owned </td><td>High   </td></tr>\n",
       "\t<tr><td>45</td><td>Female</td><td>105000</td><td>Bachelor</td><td>Married</td><td>3</td><td>Owned </td><td>High   </td></tr>\n",
       "\t<tr><td>50</td><td>Male  </td><td>155000</td><td>Master  </td><td>Married</td><td>0</td><td>Owned </td><td>High   </td></tr>\n",
       "\t<tr><td>26</td><td>Female</td><td> 45000</td><td>AD      </td><td>Single </td><td>0</td><td>Rented</td><td>Average</td></tr>\n",
       "\t<tr><td>31</td><td>Male  </td><td> 65000</td><td>Bachelor</td><td>Single </td><td>0</td><td>Rented</td><td>Average</td></tr>\n",
       "\t<tr><td>36</td><td>Female</td><td> 85000</td><td>Master  </td><td>Married</td><td>2</td><td>Owned </td><td>High   </td></tr>\n",
       "\t<tr><td>41</td><td>Male  </td><td>110000</td><td>Doc     </td><td>Single </td><td>0</td><td>Owned </td><td>High   </td></tr>\n",
       "\t<tr><td>46</td><td>Female</td><td> 95000</td><td>HSD     </td><td>Married</td><td>1</td><td>Owned </td><td>High   </td></tr>\n",
       "\t<tr><td>51</td><td>Male  </td><td>140000</td><td>Bachelor</td><td>Married</td><td>0</td><td>Owned </td><td>High   </td></tr>\n",
       "\t<tr><td>27</td><td>Female</td><td> 37500</td><td>HSD     </td><td>Single </td><td>0</td><td>Rented</td><td>Low    </td></tr>\n",
       "\t<tr><td>32</td><td>Male  </td><td> 57500</td><td>AD      </td><td>Single </td><td>0</td><td>Rented</td><td>Average</td></tr>\n",
       "\t<tr><td>37</td><td>Female</td><td> 72500</td><td>Bachelor</td><td>Married</td><td>2</td><td>Owned </td><td>High   </td></tr>\n",
       "\t<tr><td>42</td><td>Male  </td><td>100000</td><td>Master  </td><td>Single </td><td>0</td><td>Owned </td><td>High   </td></tr>\n",
       "\t<tr><td>47</td><td>Female</td><td> 90000</td><td>Doc     </td><td>Married</td><td>1</td><td>Owned </td><td>High   </td></tr>\n",
       "\t<tr><td>52</td><td>Male  </td><td>130000</td><td>HSD     </td><td>Married</td><td>0</td><td>Owned </td><td>High   </td></tr>\n",
       "\t<tr><td>28</td><td>Female</td><td> 32500</td><td>AD      </td><td>Single </td><td>0</td><td>Rented</td><td>Low    </td></tr>\n",
       "\t<tr><td>33</td><td>Male  </td><td> 52500</td><td>HSD     </td><td>Single </td><td>0</td><td>Rented</td><td>Average</td></tr>\n",
       "\t<tr><td>38</td><td>Female</td><td> 67500</td><td>Bachelor</td><td>Married</td><td>2</td><td>Owned </td><td>High   </td></tr>\n",
       "\t<tr><td>43</td><td>Male  </td><td> 92500</td><td>Master  </td><td>Single </td><td>0</td><td>Owned </td><td>High   </td></tr>\n",
       "\t<tr><td>48</td><td>Female</td><td> 82500</td><td>Doc     </td><td>Married</td><td>1</td><td>Owned </td><td>High   </td></tr>\n",
       "\t<tr><td>53</td><td>Male  </td><td>122500</td><td>AD      </td><td>Married</td><td>0</td><td>Owned </td><td>High   </td></tr>\n",
       "\t<tr><td>29</td><td>Female</td><td> 27500</td><td>HSD     </td><td>Single </td><td>0</td><td>Rented</td><td>Low    </td></tr>\n",
       "\t<tr><td>34</td><td>Male  </td><td> 47500</td><td>AD      </td><td>Single </td><td>0</td><td>Rented</td><td>Average</td></tr>\n",
       "\t<tr><td>39</td><td>Female</td><td> 62500</td><td>Bachelor</td><td>Married</td><td>2</td><td>Owned </td><td>High   </td></tr>\n",
       "\t<tr><td>44</td><td>Male  </td><td> 87500</td><td>Master  </td><td>Single </td><td>0</td><td>Owned </td><td>High   </td></tr>\n",
       "\t<tr><td>49</td><td>Female</td><td> 77500</td><td>Doc     </td><td>Married</td><td>1</td><td>Owned </td><td>High   </td></tr>\n",
       "</tbody>\n",
       "</table>\n"
      ],
      "text/latex": [
       "A data.frame: 164 × 8\n",
       "\\begin{tabular}{llllllll}\n",
       " Age & Gender & Income & Education & Marital.Status & Number.of.Children & Home.Ownership & Credit.Score\\\\\n",
       " <int> & <chr> & <int> & <chr> & <chr> & <int> & <chr> & <chr>\\\\\n",
       "\\hline\n",
       "\t 25 & Female &  50000 & Bachelor & Single  & 0 & Rented & High   \\\\\n",
       "\t 30 & Male   & 100000 & Master   & Married & 2 & Owned  & High   \\\\\n",
       "\t 35 & Female &  75000 & Doc      & Married & 1 & Owned  & High   \\\\\n",
       "\t 40 & Male   & 125000 & HSD      & Single  & 0 & Owned  & High   \\\\\n",
       "\t 45 & Female & 100000 & Bachelor & Married & 3 & Owned  & High   \\\\\n",
       "\t 50 & Male   & 150000 & Master   & Married & 0 & Owned  & High   \\\\\n",
       "\t 26 & Female &  40000 & AD       & Single  & 0 & Rented & Average\\\\\n",
       "\t 31 & Male   &  60000 & Bachelor & Single  & 0 & Rented & Average\\\\\n",
       "\t 36 & Female &  80000 & Master   & Married & 2 & Owned  & High   \\\\\n",
       "\t 41 & Male   & 105000 & Doc      & Single  & 0 & Owned  & High   \\\\\n",
       "\t 46 & Female &  90000 & HSD      & Married & 1 & Owned  & High   \\\\\n",
       "\t 51 & Male   & 135000 & Bachelor & Married & 0 & Owned  & High   \\\\\n",
       "\t 27 & Female &  35000 & HSD      & Single  & 0 & Rented & Low    \\\\\n",
       "\t 32 & Male   &  55000 & AD       & Single  & 0 & Rented & Average\\\\\n",
       "\t 37 & Female &  70000 & Bachelor & Married & 2 & Owned  & High   \\\\\n",
       "\t 42 & Male   &  95000 & Master   & Single  & 0 & Owned  & High   \\\\\n",
       "\t 47 & Female &  85000 & Doc      & Married & 1 & Owned  & High   \\\\\n",
       "\t 52 & Male   & 125000 & HSD      & Married & 0 & Owned  & High   \\\\\n",
       "\t 28 & Female &  30000 & AD       & Single  & 0 & Rented & Low    \\\\\n",
       "\t 33 & Male   &  50000 & HSD      & Single  & 0 & Rented & Average\\\\\n",
       "\t 38 & Female &  65000 & Bachelor & Married & 2 & Owned  & High   \\\\\n",
       "\t 43 & Male   &  80000 & Master   & Single  & 0 & Owned  & High   \\\\\n",
       "\t 48 & Female &  70000 & Doc      & Married & 1 & Owned  & High   \\\\\n",
       "\t 53 & Male   & 115000 & AD       & Married & 0 & Owned  & High   \\\\\n",
       "\t 29 & Female &  25000 & HSD      & Single  & 0 & Rented & Low    \\\\\n",
       "\t 34 & Male   &  45000 & AD       & Single  & 0 & Rented & Average\\\\\n",
       "\t 39 & Female &  60000 & Bachelor & Married & 2 & Owned  & High   \\\\\n",
       "\t 44 & Male   &  75000 & Master   & Single  & 0 & Owned  & High   \\\\\n",
       "\t 49 & Female &  65000 & Doc      & Married & 1 & Owned  & High   \\\\\n",
       "\t 25 & Female &  55000 & Bachelor & Single  & 0 & Rented & Average\\\\\n",
       "\t ⋮ & ⋮ & ⋮ & ⋮ & ⋮ & ⋮ & ⋮ & ⋮\\\\\n",
       "\t 34 & Male   & 105000 & Bachelor & Married & 1 & Rented & High   \\\\\n",
       "\t 25 & Female &  55000 & Bachelor & Single  & 0 & Rented & Average\\\\\n",
       "\t 30 & Male   & 105000 & Master   & Married & 2 & Owned  & High   \\\\\n",
       "\t 35 & Female &  80000 & Doc      & Married & 1 & Owned  & High   \\\\\n",
       "\t 40 & Male   & 130000 & HSD      & Single  & 0 & Owned  & High   \\\\\n",
       "\t 45 & Female & 105000 & Bachelor & Married & 3 & Owned  & High   \\\\\n",
       "\t 50 & Male   & 155000 & Master   & Married & 0 & Owned  & High   \\\\\n",
       "\t 26 & Female &  45000 & AD       & Single  & 0 & Rented & Average\\\\\n",
       "\t 31 & Male   &  65000 & Bachelor & Single  & 0 & Rented & Average\\\\\n",
       "\t 36 & Female &  85000 & Master   & Married & 2 & Owned  & High   \\\\\n",
       "\t 41 & Male   & 110000 & Doc      & Single  & 0 & Owned  & High   \\\\\n",
       "\t 46 & Female &  95000 & HSD      & Married & 1 & Owned  & High   \\\\\n",
       "\t 51 & Male   & 140000 & Bachelor & Married & 0 & Owned  & High   \\\\\n",
       "\t 27 & Female &  37500 & HSD      & Single  & 0 & Rented & Low    \\\\\n",
       "\t 32 & Male   &  57500 & AD       & Single  & 0 & Rented & Average\\\\\n",
       "\t 37 & Female &  72500 & Bachelor & Married & 2 & Owned  & High   \\\\\n",
       "\t 42 & Male   & 100000 & Master   & Single  & 0 & Owned  & High   \\\\\n",
       "\t 47 & Female &  90000 & Doc      & Married & 1 & Owned  & High   \\\\\n",
       "\t 52 & Male   & 130000 & HSD      & Married & 0 & Owned  & High   \\\\\n",
       "\t 28 & Female &  32500 & AD       & Single  & 0 & Rented & Low    \\\\\n",
       "\t 33 & Male   &  52500 & HSD      & Single  & 0 & Rented & Average\\\\\n",
       "\t 38 & Female &  67500 & Bachelor & Married & 2 & Owned  & High   \\\\\n",
       "\t 43 & Male   &  92500 & Master   & Single  & 0 & Owned  & High   \\\\\n",
       "\t 48 & Female &  82500 & Doc      & Married & 1 & Owned  & High   \\\\\n",
       "\t 53 & Male   & 122500 & AD       & Married & 0 & Owned  & High   \\\\\n",
       "\t 29 & Female &  27500 & HSD      & Single  & 0 & Rented & Low    \\\\\n",
       "\t 34 & Male   &  47500 & AD       & Single  & 0 & Rented & Average\\\\\n",
       "\t 39 & Female &  62500 & Bachelor & Married & 2 & Owned  & High   \\\\\n",
       "\t 44 & Male   &  87500 & Master   & Single  & 0 & Owned  & High   \\\\\n",
       "\t 49 & Female &  77500 & Doc      & Married & 1 & Owned  & High   \\\\\n",
       "\\end{tabular}\n"
      ],
      "text/markdown": [
       "\n",
       "A data.frame: 164 × 8\n",
       "\n",
       "| Age &lt;int&gt; | Gender &lt;chr&gt; | Income &lt;int&gt; | Education &lt;chr&gt; | Marital.Status &lt;chr&gt; | Number.of.Children &lt;int&gt; | Home.Ownership &lt;chr&gt; | Credit.Score &lt;chr&gt; |\n",
       "|---|---|---|---|---|---|---|---|\n",
       "| 25 | Female |  50000 | Bachelor | Single  | 0 | Rented | High    |\n",
       "| 30 | Male   | 100000 | Master   | Married | 2 | Owned  | High    |\n",
       "| 35 | Female |  75000 | Doc      | Married | 1 | Owned  | High    |\n",
       "| 40 | Male   | 125000 | HSD      | Single  | 0 | Owned  | High    |\n",
       "| 45 | Female | 100000 | Bachelor | Married | 3 | Owned  | High    |\n",
       "| 50 | Male   | 150000 | Master   | Married | 0 | Owned  | High    |\n",
       "| 26 | Female |  40000 | AD       | Single  | 0 | Rented | Average |\n",
       "| 31 | Male   |  60000 | Bachelor | Single  | 0 | Rented | Average |\n",
       "| 36 | Female |  80000 | Master   | Married | 2 | Owned  | High    |\n",
       "| 41 | Male   | 105000 | Doc      | Single  | 0 | Owned  | High    |\n",
       "| 46 | Female |  90000 | HSD      | Married | 1 | Owned  | High    |\n",
       "| 51 | Male   | 135000 | Bachelor | Married | 0 | Owned  | High    |\n",
       "| 27 | Female |  35000 | HSD      | Single  | 0 | Rented | Low     |\n",
       "| 32 | Male   |  55000 | AD       | Single  | 0 | Rented | Average |\n",
       "| 37 | Female |  70000 | Bachelor | Married | 2 | Owned  | High    |\n",
       "| 42 | Male   |  95000 | Master   | Single  | 0 | Owned  | High    |\n",
       "| 47 | Female |  85000 | Doc      | Married | 1 | Owned  | High    |\n",
       "| 52 | Male   | 125000 | HSD      | Married | 0 | Owned  | High    |\n",
       "| 28 | Female |  30000 | AD       | Single  | 0 | Rented | Low     |\n",
       "| 33 | Male   |  50000 | HSD      | Single  | 0 | Rented | Average |\n",
       "| 38 | Female |  65000 | Bachelor | Married | 2 | Owned  | High    |\n",
       "| 43 | Male   |  80000 | Master   | Single  | 0 | Owned  | High    |\n",
       "| 48 | Female |  70000 | Doc      | Married | 1 | Owned  | High    |\n",
       "| 53 | Male   | 115000 | AD       | Married | 0 | Owned  | High    |\n",
       "| 29 | Female |  25000 | HSD      | Single  | 0 | Rented | Low     |\n",
       "| 34 | Male   |  45000 | AD       | Single  | 0 | Rented | Average |\n",
       "| 39 | Female |  60000 | Bachelor | Married | 2 | Owned  | High    |\n",
       "| 44 | Male   |  75000 | Master   | Single  | 0 | Owned  | High    |\n",
       "| 49 | Female |  65000 | Doc      | Married | 1 | Owned  | High    |\n",
       "| 25 | Female |  55000 | Bachelor | Single  | 0 | Rented | Average |\n",
       "| ⋮ | ⋮ | ⋮ | ⋮ | ⋮ | ⋮ | ⋮ | ⋮ |\n",
       "| 34 | Male   | 105000 | Bachelor | Married | 1 | Rented | High    |\n",
       "| 25 | Female |  55000 | Bachelor | Single  | 0 | Rented | Average |\n",
       "| 30 | Male   | 105000 | Master   | Married | 2 | Owned  | High    |\n",
       "| 35 | Female |  80000 | Doc      | Married | 1 | Owned  | High    |\n",
       "| 40 | Male   | 130000 | HSD      | Single  | 0 | Owned  | High    |\n",
       "| 45 | Female | 105000 | Bachelor | Married | 3 | Owned  | High    |\n",
       "| 50 | Male   | 155000 | Master   | Married | 0 | Owned  | High    |\n",
       "| 26 | Female |  45000 | AD       | Single  | 0 | Rented | Average |\n",
       "| 31 | Male   |  65000 | Bachelor | Single  | 0 | Rented | Average |\n",
       "| 36 | Female |  85000 | Master   | Married | 2 | Owned  | High    |\n",
       "| 41 | Male   | 110000 | Doc      | Single  | 0 | Owned  | High    |\n",
       "| 46 | Female |  95000 | HSD      | Married | 1 | Owned  | High    |\n",
       "| 51 | Male   | 140000 | Bachelor | Married | 0 | Owned  | High    |\n",
       "| 27 | Female |  37500 | HSD      | Single  | 0 | Rented | Low     |\n",
       "| 32 | Male   |  57500 | AD       | Single  | 0 | Rented | Average |\n",
       "| 37 | Female |  72500 | Bachelor | Married | 2 | Owned  | High    |\n",
       "| 42 | Male   | 100000 | Master   | Single  | 0 | Owned  | High    |\n",
       "| 47 | Female |  90000 | Doc      | Married | 1 | Owned  | High    |\n",
       "| 52 | Male   | 130000 | HSD      | Married | 0 | Owned  | High    |\n",
       "| 28 | Female |  32500 | AD       | Single  | 0 | Rented | Low     |\n",
       "| 33 | Male   |  52500 | HSD      | Single  | 0 | Rented | Average |\n",
       "| 38 | Female |  67500 | Bachelor | Married | 2 | Owned  | High    |\n",
       "| 43 | Male   |  92500 | Master   | Single  | 0 | Owned  | High    |\n",
       "| 48 | Female |  82500 | Doc      | Married | 1 | Owned  | High    |\n",
       "| 53 | Male   | 122500 | AD       | Married | 0 | Owned  | High    |\n",
       "| 29 | Female |  27500 | HSD      | Single  | 0 | Rented | Low     |\n",
       "| 34 | Male   |  47500 | AD       | Single  | 0 | Rented | Average |\n",
       "| 39 | Female |  62500 | Bachelor | Married | 2 | Owned  | High    |\n",
       "| 44 | Male   |  87500 | Master   | Single  | 0 | Owned  | High    |\n",
       "| 49 | Female |  77500 | Doc      | Married | 1 | Owned  | High    |\n",
       "\n"
      ],
      "text/plain": [
       "    Age Gender Income Education Marital.Status Number.of.Children\n",
       "1   25  Female  50000 Bachelor  Single         0                 \n",
       "2   30  Male   100000 Master    Married        2                 \n",
       "3   35  Female  75000 Doc       Married        1                 \n",
       "4   40  Male   125000 HSD       Single         0                 \n",
       "5   45  Female 100000 Bachelor  Married        3                 \n",
       "6   50  Male   150000 Master    Married        0                 \n",
       "7   26  Female  40000 AD        Single         0                 \n",
       "8   31  Male    60000 Bachelor  Single         0                 \n",
       "9   36  Female  80000 Master    Married        2                 \n",
       "10  41  Male   105000 Doc       Single         0                 \n",
       "11  46  Female  90000 HSD       Married        1                 \n",
       "12  51  Male   135000 Bachelor  Married        0                 \n",
       "13  27  Female  35000 HSD       Single         0                 \n",
       "14  32  Male    55000 AD        Single         0                 \n",
       "15  37  Female  70000 Bachelor  Married        2                 \n",
       "16  42  Male    95000 Master    Single         0                 \n",
       "17  47  Female  85000 Doc       Married        1                 \n",
       "18  52  Male   125000 HSD       Married        0                 \n",
       "19  28  Female  30000 AD        Single         0                 \n",
       "20  33  Male    50000 HSD       Single         0                 \n",
       "21  38  Female  65000 Bachelor  Married        2                 \n",
       "22  43  Male    80000 Master    Single         0                 \n",
       "23  48  Female  70000 Doc       Married        1                 \n",
       "24  53  Male   115000 AD        Married        0                 \n",
       "25  29  Female  25000 HSD       Single         0                 \n",
       "26  34  Male    45000 AD        Single         0                 \n",
       "27  39  Female  60000 Bachelor  Married        2                 \n",
       "28  44  Male    75000 Master    Single         0                 \n",
       "29  49  Female  65000 Doc       Married        1                 \n",
       "30  25  Female  55000 Bachelor  Single         0                 \n",
       "⋮   ⋮   ⋮      ⋮      ⋮         ⋮              ⋮                 \n",
       "135 34  Male   105000 Bachelor  Married        1                 \n",
       "136 25  Female  55000 Bachelor  Single         0                 \n",
       "137 30  Male   105000 Master    Married        2                 \n",
       "138 35  Female  80000 Doc       Married        1                 \n",
       "139 40  Male   130000 HSD       Single         0                 \n",
       "140 45  Female 105000 Bachelor  Married        3                 \n",
       "141 50  Male   155000 Master    Married        0                 \n",
       "142 26  Female  45000 AD        Single         0                 \n",
       "143 31  Male    65000 Bachelor  Single         0                 \n",
       "144 36  Female  85000 Master    Married        2                 \n",
       "145 41  Male   110000 Doc       Single         0                 \n",
       "146 46  Female  95000 HSD       Married        1                 \n",
       "147 51  Male   140000 Bachelor  Married        0                 \n",
       "148 27  Female  37500 HSD       Single         0                 \n",
       "149 32  Male    57500 AD        Single         0                 \n",
       "150 37  Female  72500 Bachelor  Married        2                 \n",
       "151 42  Male   100000 Master    Single         0                 \n",
       "152 47  Female  90000 Doc       Married        1                 \n",
       "153 52  Male   130000 HSD       Married        0                 \n",
       "154 28  Female  32500 AD        Single         0                 \n",
       "155 33  Male    52500 HSD       Single         0                 \n",
       "156 38  Female  67500 Bachelor  Married        2                 \n",
       "157 43  Male    92500 Master    Single         0                 \n",
       "158 48  Female  82500 Doc       Married        1                 \n",
       "159 53  Male   122500 AD        Married        0                 \n",
       "160 29  Female  27500 HSD       Single         0                 \n",
       "161 34  Male    47500 AD        Single         0                 \n",
       "162 39  Female  62500 Bachelor  Married        2                 \n",
       "163 44  Male    87500 Master    Single         0                 \n",
       "164 49  Female  77500 Doc       Married        1                 \n",
       "    Home.Ownership Credit.Score\n",
       "1   Rented         High        \n",
       "2   Owned          High        \n",
       "3   Owned          High        \n",
       "4   Owned          High        \n",
       "5   Owned          High        \n",
       "6   Owned          High        \n",
       "7   Rented         Average     \n",
       "8   Rented         Average     \n",
       "9   Owned          High        \n",
       "10  Owned          High        \n",
       "11  Owned          High        \n",
       "12  Owned          High        \n",
       "13  Rented         Low         \n",
       "14  Rented         Average     \n",
       "15  Owned          High        \n",
       "16  Owned          High        \n",
       "17  Owned          High        \n",
       "18  Owned          High        \n",
       "19  Rented         Low         \n",
       "20  Rented         Average     \n",
       "21  Owned          High        \n",
       "22  Owned          High        \n",
       "23  Owned          High        \n",
       "24  Owned          High        \n",
       "25  Rented         Low         \n",
       "26  Rented         Average     \n",
       "27  Owned          High        \n",
       "28  Owned          High        \n",
       "29  Owned          High        \n",
       "30  Rented         Average     \n",
       "⋮   ⋮              ⋮           \n",
       "135 Rented         High        \n",
       "136 Rented         Average     \n",
       "137 Owned          High        \n",
       "138 Owned          High        \n",
       "139 Owned          High        \n",
       "140 Owned          High        \n",
       "141 Owned          High        \n",
       "142 Rented         Average     \n",
       "143 Rented         Average     \n",
       "144 Owned          High        \n",
       "145 Owned          High        \n",
       "146 Owned          High        \n",
       "147 Owned          High        \n",
       "148 Rented         Low         \n",
       "149 Rented         Average     \n",
       "150 Owned          High        \n",
       "151 Owned          High        \n",
       "152 Owned          High        \n",
       "153 Owned          High        \n",
       "154 Rented         Low         \n",
       "155 Rented         Average     \n",
       "156 Owned          High        \n",
       "157 Owned          High        \n",
       "158 Owned          High        \n",
       "159 Owned          High        \n",
       "160 Rented         Low         \n",
       "161 Rented         Average     \n",
       "162 Owned          High        \n",
       "163 Owned          High        \n",
       "164 Owned          High        "
      ]
     },
     "metadata": {},
     "output_type": "display_data"
    }
   ],
   "source": [
    "conditions <- c(\"Bachelor's Degree\", \"Master's Degree\", \"Doctorate\", \"High School Diploma\",\"Associate's Degree\")\n",
    "replacement_values <- c(\"Bachelor\", \"Master\", \"Doc\",\"HDP\",\"AD\")\n",
    "imputed <- data\n",
    "imputed$Education[imputed$Education == \"Bachelor's Degree\"] <-\"Bachelor\"\n",
    "imputed$Education[imputed$Education == \"Master's Degree\"] <-\"Master\"\n",
    "imputed$Education[imputed$Education == \"Doctorate\"] <-\"Doc\"\n",
    "imputed$Education[imputed$Education == \"High School Diploma\"] <-\"HSD\"\n",
    "imputed$Education[imputed$Education == \"Associate's Degree\"] <-\"AD\"\n",
    "\n",
    "\n",
    "View(imputed)"
   ]
  },
  {
   "cell_type": "code",
   "execution_count": 7,
   "id": "004048b6",
   "metadata": {},
   "outputs": [
    {
     "data": {
      "image/png": "[encoded data removed]",
      "text/plain": [
       "plot without title"
      ]
     },
     "metadata": {
      "image/png": {
       "height": 420,
       "width": 420
      }
     },
     "output_type": "display_data"
    }
   ],
   "source": [
    "stripchart(Income ~ Education, data = imputed, xlab = \"Income\",\n",
    "           ylab = \"Education Degree\", col = c(\"red\", \"green\", \"blue\", \"purple\", \"pink\"), method = \"jitter\", cex = 1)"
   ]
  },
  {
   "cell_type": "code",
   "execution_count": 8,
   "id": "6e9ac88d",
   "metadata": {},
   "outputs": [
    {
     "data": {
      "image/png": "[encoded data removed]",
      "text/plain": [
       "Plot with title \"\""
      ]
     },
     "metadata": {
      "image/png": {
       "height": 420,
       "width": 420
      }
     },
     "output_type": "display_data"
    }
   ],
   "source": [
    "boxplot(Income ~ Education, data = imputed,\n",
    "        xlab = \"Income\", ylab = \"Education Degree\",\n",
    "        main = \"\", col = c(\"red\", \"green\", \"blue\", \"purple\", \"pink\"))"
   ]
  },
  {
   "cell_type": "code",
   "execution_count": 9,
   "id": "ce25964e",
   "metadata": {},
   "outputs": [
    {
     "data": {
      "text/html": [
       "<table class=\"dataframe\">\n",
       "<caption>A data.frame: 5 × 2</caption>\n",
       "<thead>\n",
       "\t<tr><th scope=col>Group.1</th><th scope=col>x</th></tr>\n",
       "\t<tr><th scope=col>&lt;chr&gt;</th><th scope=col>&lt;dbl&gt;</th></tr>\n",
       "</thead>\n",
       "<tbody>\n",
       "\t<tr><td>AD      </td><td> 60800.00</td></tr>\n",
       "\t<tr><td>Bachelor</td><td> 79404.76</td></tr>\n",
       "\t<tr><td>Doc     </td><td> 87838.71</td></tr>\n",
       "\t<tr><td>HSD     </td><td> 79583.33</td></tr>\n",
       "\t<tr><td>Master  </td><td>104777.78</td></tr>\n",
       "</tbody>\n",
       "</table>\n"
      ],
      "text/latex": [
       "A data.frame: 5 × 2\n",
       "\\begin{tabular}{ll}\n",
       " Group.1 & x\\\\\n",
       " <chr> & <dbl>\\\\\n",
       "\\hline\n",
       "\t AD       &  60800.00\\\\\n",
       "\t Bachelor &  79404.76\\\\\n",
       "\t Doc      &  87838.71\\\\\n",
       "\t HSD      &  79583.33\\\\\n",
       "\t Master   & 104777.78\\\\\n",
       "\\end{tabular}\n"
      ],
      "text/markdown": [
       "\n",
       "A data.frame: 5 × 2\n",
       "\n",
       "| Group.1 &lt;chr&gt; | x &lt;dbl&gt; |\n",
       "|---|---|\n",
       "| AD       |  60800.00 |\n",
       "| Bachelor |  79404.76 |\n",
       "| Doc      |  87838.71 |\n",
       "| HSD      |  79583.33 |\n",
       "| Master   | 104777.78 |\n",
       "\n"
      ],
      "text/plain": [
       "  Group.1  x        \n",
       "1 AD        60800.00\n",
       "2 Bachelor  79404.76\n",
       "3 Doc       87838.71\n",
       "4 HSD       79583.33\n",
       "5 Master   104777.78"
      ]
     },
     "metadata": {},
     "output_type": "display_data"
    }
   ],
   "source": [
    "aggregate(x = imputed$Income, by = list(imputed$Education), FUN = mean)\n"
   ]
  },
  {
   "cell_type": "markdown",
   "id": "b602c53a",
   "metadata": {},
   "source": [
    "## 2. Перевірити виконання передумов дисперсійного аналізу."
   ]
  },
  {
   "cell_type": "code",
   "execution_count": 10,
   "id": "750ca62f",
   "metadata": {},
   "outputs": [],
   "source": [
    "mod1 <- aov(Income ~ Education, data = imputed)"
   ]
  },
  {
   "cell_type": "code",
   "execution_count": 11,
   "id": "743d04a1",
   "metadata": {},
   "outputs": [
    {
     "data": {
      "image/png": "[encoded data removed]",
      "text/plain": [
       "Plot with title \"Гістограма залишків моделі 1\""
      ]
     },
     "metadata": {
      "image/png": {
       "height": 420,
       "width": 420
      }
     },
     "output_type": "display_data"
    }
   ],
   "source": [
    "hist(mod1$residuals, main = \"Гістограма залишків моделі 1\", freq = F, col = \"green1\")"
   ]
  },
  {
   "cell_type": "code",
   "execution_count": 12,
   "id": "b8e4be79",
   "metadata": {},
   "outputs": [
    {
     "data": {
      "image/png": "[encoded data removed]",
      "text/plain": [
       "plot without title"
      ]
     },
     "metadata": {
      "image/png": {
       "height": 420,
       "width": 420
      }
     },
     "output_type": "display_data"
    }
   ],
   "source": [
    "ggqqplot(mod1$residuals, color = \"green3\")"
   ]
  },
  {
   "cell_type": "code",
   "execution_count": 13,
   "id": "e15ab891",
   "metadata": {},
   "outputs": [
    {
     "data": {
      "text/plain": [
       "\n",
       "\tShapiro-Wilk normality test\n",
       "\n",
       "data:  mod1$residuals\n",
       "W = 0.91247, p-value = 2.372e-08\n"
      ]
     },
     "metadata": {},
     "output_type": "display_data"
    }
   ],
   "source": [
    "shapiro.test(mod1$residuals)"
   ]
  },
  {
   "cell_type": "markdown",
   "id": "e4838d34",
   "metadata": {},
   "source": [
    "## Перевірка гомогенності дисперсій"
   ]
  },
  {
   "cell_type": "markdown",
   "id": "6f752baf",
   "metadata": {},
   "source": [
    "Візуально оцінемо дисперсії"
   ]
  },
  {
   "cell_type": "code",
   "execution_count": 14,
   "id": "83567fa6",
   "metadata": {},
   "outputs": [
    {
     "data": {
      "image/png": "[encoded data removed]",
      "text/plain": [
       "Plot with title \"\""
      ]
     },
     "metadata": {
      "image/png": {
       "height": 420,
       "width": 420
      }
     },
     "output_type": "display_data"
    }
   ],
   "source": [
    "boxplot(Income ~ Education, data = imputed,\n",
    "        xlab = \"Income\", ylab = \"Education Degree\",\n",
    "        main = \"\", col = c(\"red\", \"green\", \"blue\", \"purple\", \"pink\"))"
   ]
  },
  {
   "cell_type": "code",
   "execution_count": 15,
   "id": "3f4706ce",
   "metadata": {},
   "outputs": [
    {
     "data": {
      "text/html": [
       "<style>\n",
       ".dl-inline {width: auto; margin:0; padding: 0}\n",
       ".dl-inline>dt, .dl-inline>dd {float: none; width: auto; display: inline-block}\n",
       ".dl-inline>dt::after {content: \":\\0020\"; padding-right: .5ex}\n",
       ".dl-inline>dt:not(:first-of-type) {padding-left: .5ex}\n",
       "</style><dl class=dl-inline><dt>AD</dt><dd>1063916666.66667</dd><dt>Bachelor</dt><dd>804515098.722416</dd><dt>Doc</dt><dd>177139784.946237</dd><dt>HSD</dt><dd>1957794540.22989</dd><dt>Master</dt><dd>576849206.349206</dd></dl>\n"
      ],
      "text/latex": [
       "\\begin{description*}\n",
       "\\item[AD] 1063916666.66667\n",
       "\\item[Bachelor] 804515098.722416\n",
       "\\item[Doc] 177139784.946237\n",
       "\\item[HSD] 1957794540.22989\n",
       "\\item[Master] 576849206.349206\n",
       "\\end{description*}\n"
      ],
      "text/markdown": [
       "AD\n",
       ":   1063916666.66667Bachelor\n",
       ":   804515098.722416Doc\n",
       ":   177139784.946237HSD\n",
       ":   1957794540.22989Master\n",
       ":   576849206.349206\n",
       "\n"
      ],
      "text/plain": [
       "        AD   Bachelor        Doc        HSD     Master \n",
       "1063916667  804515099  177139785 1957794540  576849206 "
      ]
     },
     "metadata": {},
     "output_type": "display_data"
    }
   ],
   "source": [
    "tapply(imputed$Income, imputed$Education, var)"
   ]
  },
  {
   "cell_type": "code",
   "execution_count": 16,
   "id": "c0740474",
   "metadata": {},
   "outputs": [
    {
     "data": {
      "text/plain": [
       "\n",
       "\tBartlett test of homogeneity of variances\n",
       "\n",
       "data:  imputed$Income by imputed$Education\n",
       "Bartlett's K-squared = 39.288, df = 4, p-value = 6.074e-08\n"
      ]
     },
     "metadata": {},
     "output_type": "display_data"
    }
   ],
   "source": [
    "bartlett.test(imputed$Income ~ imputed$Education)"
   ]
  },
  {
   "cell_type": "code",
   "execution_count": null,
   "id": "f665292b",
   "metadata": {},
   "outputs": [],
   "source": []
  },
  {
   "cell_type": "markdown",
   "id": "13017fb3",
   "metadata": {},
   "source": [
    "Отже, вочевидь наш розподіл не є ні нормальним, ні гомогенним."
   ]
  },
  {
   "cell_type": "markdown",
   "id": "1f70885b",
   "metadata": {},
   "source": [
    "## 3. Провести дисперсійний аналіз"
   ]
  },
  {
   "cell_type": "code",
   "execution_count": 19,
   "id": "c1de7aaf",
   "metadata": {},
   "outputs": [],
   "source": [
    "mod1 <- aov(Income ~ Education, data = imputed)"
   ]
  },
  {
   "cell_type": "code",
   "execution_count": 20,
   "id": "bc3e3cbf",
   "metadata": {},
   "outputs": [
    {
     "data": {
      "image/png": "[encoded data removed]",
      "text/plain": [
       "Plot with title \"\""
      ]
     },
     "metadata": {
      "image/png": {
       "height": 420,
       "width": 420
      }
     },
     "output_type": "display_data"
    },
    {
     "data": {
      "image/png": "[encoded data removed]",
      "text/plain": [
       "Plot with title \"\""
      ]
     },
     "metadata": {
      "image/png": {
       "height": 420,
       "width": 420
      }
     },
     "output_type": "display_data"
    },
    {
     "data": {
      "image/png": "[encoded data removed]",
      "text/plain": [
       "Plot with title \"\""
      ]
     },
     "metadata": {
      "image/png": {
       "height": 420,
       "width": 420
      }
     },
     "output_type": "display_data"
    },
    {
     "data": {
      "image/png": "[encoded data removed]",
      "text/plain": [
       "Plot with title \"\""
      ]
     },
     "metadata": {
      "image/png": {
       "height": 420,
       "width": 420
      }
     },
     "output_type": "display_data"
    }
   ],
   "source": [
    "plot(mod1)"
   ]
  },
  {
   "cell_type": "code",
   "execution_count": 21,
   "id": "af46f465",
   "metadata": {},
   "outputs": [
    {
     "data": {
      "text/plain": [
       "\n",
       "Call:\n",
       "lm(formula = Income ~ Education, data = imputed)\n",
       "\n",
       "Residuals:\n",
       "   Min     1Q Median     3Q    Max \n",
       "-54583 -18230  -8622  12722  70595 \n",
       "\n",
       "Coefficients:\n",
       "                  Estimate Std. Error t value Pr(>|t|)    \n",
       "(Intercept)          60800       5952  10.216  < 2e-16 ***\n",
       "EducationBachelor    18605       7517   2.475 0.014372 *  \n",
       "EducationDoc         27039       7999   3.380 0.000911 ***\n",
       "EducationHSD         18783       8058   2.331 0.021015 *  \n",
       "EducationMaster      43978       7747   5.677 6.36e-08 ***\n",
       "---\n",
       "Signif. codes:  0 '***' 0.001 '**' 0.01 '*' 0.05 '.' 0.1 ' ' 1\n",
       "\n",
       "Residual standard error: 29760 on 159 degrees of freedom\n",
       "Multiple R-squared:  0.1801,\tAdjusted R-squared:  0.1594 \n",
       "F-statistic: 8.729 on 4 and 159 DF,  p-value: 2.144e-06\n"
      ]
     },
     "metadata": {},
     "output_type": "display_data"
    }
   ],
   "source": [
    "lm1 = lm(Income ~ Education, data = imputed)\n",
    "summary(lm1)"
   ]
  },
  {
   "cell_type": "code",
   "execution_count": 22,
   "id": "6e9c40ec",
   "metadata": {},
   "outputs": [
    {
     "data": {
      "text/plain": [
       "             Df    Sum Sq   Mean Sq F value   Pr(>F)    \n",
       "Education     4 3.092e+10 7.729e+09   8.729 2.14e-06 ***\n",
       "Residuals   159 1.408e+11 8.855e+08                     \n",
       "---\n",
       "Signif. codes:  0 '***' 0.001 '**' 0.01 '*' 0.05 '.' 0.1 ' ' 1"
      ]
     },
     "metadata": {},
     "output_type": "display_data"
    }
   ],
   "source": [
    "summary(mod1)"
   ]
  },
  {
   "cell_type": "markdown",
   "id": "eafd117b",
   "metadata": {},
   "source": [
    "## 4. Аналіз контрастів"
   ]
  },
  {
   "cell_type": "code",
   "execution_count": 23,
   "id": "2b0d3694",
   "metadata": {},
   "outputs": [
    {
     "data": {
      "text/plain": [
       " Education lsmean   SE  df lower.CL upper.CL\n",
       " AD         60800 5952 159    40745    80855\n",
       " Bachelor   79405 4592 159    63932    94878\n",
       " Doc        87839 5345 159    69829   105849\n",
       " HSD        79583 5433 159    61276    97891\n",
       " Master    104778 4960 159    88065   121490\n",
       "\n",
       "Confidence level used: 0.95 \n",
       "Conf-level adjustment: scheffe method with rank 5 "
      ]
     },
     "metadata": {},
     "output_type": "display_data"
    }
   ],
   "source": [
    "lsmeans(lm1, ~ Education, adjust=\"scheffe\") \n"
   ]
  },
  {
   "cell_type": "code",
   "execution_count": 24,
   "id": "dd925fd3",
   "metadata": {},
   "outputs": [
    {
     "data": {
      "text/plain": [
       " contrast        estimate   SE  df t.ratio p.value\n",
       " AD effect         -21681 5179 159  -4.186  0.0001\n",
       " Bachelor effect    -3076 4268 159  -0.721  0.5490\n",
       " Doc effect          5358 4765 159   1.124  0.4376\n",
       " HSD effect         -2898 4825 159  -0.601  0.5490\n",
       " Master effect      22297 4508 159   4.946  <.0001\n",
       "\n",
       "P value adjustment: fdr method for 5 tests "
      ]
     },
     "metadata": {},
     "output_type": "display_data"
    }
   ],
   "source": [
    "marginal.means =lsmeans(lm1, ~ Education)\n",
    "contrast(marginal.means)"
   ]
  },
  {
   "cell_type": "code",
   "execution_count": 25,
   "id": "8facbb4f",
   "metadata": {},
   "outputs": [
    {
     "data": {
      "image/png": "[encoded data removed]",
      "text/plain": [
       "plot without title"
      ]
     },
     "metadata": {
      "image/png": {
       "height": 420,
       "width": 420
      }
     },
     "output_type": "display_data"
    }
   ],
   "source": [
    "plot(marginal.means)"
   ]
  },
  {
   "cell_type": "code",
   "execution_count": 26,
   "id": "7171547a",
   "metadata": {},
   "outputs": [
    {
     "data": {
      "text/plain": [
       " contrast          estimate   SE  df t.ratio p.value\n",
       " AD - Bachelor       -18605 7517 159  -2.475  0.1016\n",
       " AD - Doc            -27039 7999 159  -3.380  0.0080\n",
       " AD - HSD            -18783 8058 159  -2.331  0.1406\n",
       " AD - Master         -43978 7747 159  -5.677  <.0001\n",
       " Bachelor - Doc       -8434 7046 159  -1.197  0.7531\n",
       " Bachelor - HSD        -179 7113 159  -0.025  1.0000\n",
       " Bachelor - Master   -25373 6759 159  -3.754  0.0022\n",
       " Doc - HSD             8255 7621 159   1.083  0.8150\n",
       " Doc - Master        -16939 7291 159  -2.323  0.1430\n",
       " HSD - Master        -25194 7356 159  -3.425  0.0069\n",
       "\n",
       "P value adjustment: tukey method for comparing a family of 5 estimates "
      ]
     },
     "metadata": {},
     "output_type": "display_data"
    }
   ],
   "source": [
    "pairs(lsmeans(lm1, ~ Education))"
   ]
  },
  {
   "cell_type": "code",
   "execution_count": 27,
   "id": "a004e2a7",
   "metadata": {},
   "outputs": [
    {
     "data": {
      "image/png": "[encoded data removed]",
      "text/plain": [
       "plot without title"
      ]
     },
     "metadata": {
      "image/png": {
       "height": 420,
       "width": 420
      }
     },
     "output_type": "display_data"
    }
   ],
   "source": [
    "plot(pairs(lsmeans(lm1, ~ Education)))"
   ]
  },
  {
   "cell_type": "code",
   "execution_count": 84,
   "id": "e1fda76e",
   "metadata": {},
   "outputs": [
    {
     "data": {
      "text/plain": [
       " contrast                           estimate    SE  df t.ratio p.value\n",
       " Bachelor's vs. High School and Doc    -8613 11934 159  -0.722  0.4715\n",
       " Master's vs. High School and AD       69172 12780 159   5.412  <.0001\n",
       " High School vs Masters and Doc       -33450 13086 159  -2.556  0.0115\n"
      ]
     },
     "metadata": {},
     "output_type": "display_data"
    }
   ],
   "source": [
    "# Specify custom contrasts\n",
    "custom_contrasts <- list(\n",
    "  \"Bachelor's vs. High School and Doc\" = c(0, 2, -1, -1,0),\n",
    "  \"Master's vs. High School and AD\" = c(-1, 0, 0, -1, 2),\n",
    "    \"High School vs Masters and Doc\" = c(0, 0, -1, 2, -1)\n",
    ")\n",
    "\n",
    "custom_contrast_result <- contrast(lsmeans(lm1, ~ Education),custom_contrasts)\n",
    "\n",
    "# Print the custom contrast results\n",
    "custom_contrast_result\n"
   ]
  },
  {
   "cell_type": "code",
   "execution_count": null,
   "id": "87f8304d",
   "metadata": {},
   "outputs": [],
   "source": []
  }
 ],
 "metadata": {
  "kernelspec": {
   "display_name": "R",
   "language": "R",
   "name": "ir"
  },
  "language_info": {
   "codemirror_mode": "r",
   "file_extension": ".r",
   "mimetype": "text/x-r-source",
   "name": "R",
   "pygments_lexer": "r",
   "version": "4.3.1"
  }
 },
 "nbformat": 4,
 "nbformat_minor": 5
}
