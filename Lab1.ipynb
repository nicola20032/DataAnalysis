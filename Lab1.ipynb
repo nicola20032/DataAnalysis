{
 "cells": [
  {
   "cell_type": "markdown",
   "id": "55de0b57",
   "metadata": {},
   "source": [
    "# Лабораторна робота 1\n",
    "Пшеничного Ніколи, ДО-3\n"
   ]
  },
  {
   "cell_type": "code",
   "execution_count": 3,
   "id": "e1693a5c",
   "metadata": {},
   "outputs": [],
   "source": [
    "library(psych)\n",
    "library(ggplot2)\n",
    "library(moments)\n",
    "library(gamlss)\n",
    "library(goftest)\n",
    "library(goft)\n",
    "library(qqplotr)"
   ]
  },
  {
   "cell_type": "code",
   "execution_count": 1,
   "id": "7fd916eb",
   "metadata": {},
   "outputs": [
    {
     "data": {
      "text/html": [
       "<table class=\"dataframe\">\n",
       "<caption>A data.frame: 137 × 9</caption>\n",
       "<thead>\n",
       "\t<tr><th scope=col>country</th><th scope=col>region</th><th scope=col>happiness_score</th><th scope=col>gdp_per_capita</th><th scope=col>social_support</th><th scope=col>healthy_life_expectancy</th><th scope=col>freedom_to_make_life_choices</th><th scope=col>generosity</th><th scope=col>perceptions_of_corruption</th></tr>\n",
       "\t<tr><th scope=col>&lt;chr&gt;</th><th scope=col>&lt;chr&gt;</th><th scope=col>&lt;dbl&gt;</th><th scope=col>&lt;dbl&gt;</th><th scope=col>&lt;dbl&gt;</th><th scope=col>&lt;dbl&gt;</th><th scope=col>&lt;dbl&gt;</th><th scope=col>&lt;dbl&gt;</th><th scope=col>&lt;dbl&gt;</th></tr>\n",
       "</thead>\n",
       "<tbody>\n",
       "\t<tr><td>Finland                 </td><td>Western Europe              </td><td>7.804</td><td>1.888</td><td>1.585</td><td>0.535</td><td>0.772</td><td>0.126</td><td>0.535</td></tr>\n",
       "\t<tr><td>Denmark                 </td><td>Western Europe              </td><td>7.586</td><td>1.949</td><td>1.548</td><td>0.537</td><td>0.734</td><td>0.208</td><td>0.525</td></tr>\n",
       "\t<tr><td>Iceland                 </td><td>Western Europe              </td><td>7.530</td><td>1.926</td><td>1.620</td><td>0.559</td><td>0.738</td><td>0.250</td><td>0.187</td></tr>\n",
       "\t<tr><td>Israel                  </td><td>Middle East and North Africa</td><td>7.473</td><td>1.833</td><td>1.521</td><td>0.577</td><td>0.569</td><td>0.124</td><td>0.158</td></tr>\n",
       "\t<tr><td>Netherlands             </td><td>Western Europe              </td><td>7.403</td><td>1.942</td><td>1.488</td><td>0.545</td><td>0.672</td><td>0.251</td><td>0.394</td></tr>\n",
       "\t<tr><td>Sweden                  </td><td>Western Europe              </td><td>7.395</td><td>1.921</td><td>1.510</td><td>0.562</td><td>0.754</td><td>0.225</td><td>0.520</td></tr>\n",
       "\t<tr><td>Norway                  </td><td>Western Europe              </td><td>7.315</td><td>1.994</td><td>1.521</td><td>0.544</td><td>0.752</td><td>0.212</td><td>0.463</td></tr>\n",
       "\t<tr><td>Switzerland             </td><td>Western Europe              </td><td>7.240</td><td>2.022</td><td>1.463</td><td>0.582</td><td>0.678</td><td>0.151</td><td>0.475</td></tr>\n",
       "\t<tr><td>Luxembourg              </td><td>Western Europe              </td><td>7.228</td><td>2.200</td><td>1.357</td><td>0.549</td><td>0.710</td><td>0.149</td><td>0.418</td></tr>\n",
       "\t<tr><td>New Zealand             </td><td>North America and ANZ       </td><td>7.123</td><td>1.842</td><td>1.544</td><td>0.513</td><td>0.672</td><td>0.230</td><td>0.471</td></tr>\n",
       "\t<tr><td>Austria                 </td><td>Western Europe              </td><td>7.097</td><td>1.927</td><td>1.382</td><td>0.535</td><td>0.630</td><td>0.191</td><td>0.310</td></tr>\n",
       "\t<tr><td>Australia               </td><td>North America and ANZ       </td><td>7.095</td><td>1.899</td><td>1.497</td><td>0.532</td><td>0.677</td><td>0.242</td><td>0.310</td></tr>\n",
       "\t<tr><td>Canada                  </td><td>North America and ANZ       </td><td>6.961</td><td>1.881</td><td>1.484</td><td>0.541</td><td>0.656</td><td>0.218</td><td>0.364</td></tr>\n",
       "\t<tr><td>Ireland                 </td><td>Western Europe              </td><td>6.911</td><td>2.152</td><td>1.425</td><td>0.539</td><td>0.656</td><td>0.186</td><td>0.409</td></tr>\n",
       "\t<tr><td>United States           </td><td>North America and ANZ       </td><td>6.894</td><td>1.980</td><td>1.460</td><td>0.390</td><td>0.557</td><td>0.210</td><td>0.172</td></tr>\n",
       "\t<tr><td>Germany                 </td><td>Western Europe              </td><td>6.892</td><td>1.919</td><td>1.401</td><td>0.539</td><td>0.618</td><td>0.153</td><td>0.365</td></tr>\n",
       "\t<tr><td>Belgium                 </td><td>Western Europe              </td><td>6.859</td><td>1.907</td><td>1.449</td><td>0.528</td><td>0.590</td><td>0.137</td><td>0.273</td></tr>\n",
       "\t<tr><td>Czechia                 </td><td>Central and Eastern Europe  </td><td>6.845</td><td>1.823</td><td>1.544</td><td>0.477</td><td>0.693</td><td>0.158</td><td>0.050</td></tr>\n",
       "\t<tr><td>United Kingdom          </td><td>Western Europe              </td><td>6.796</td><td>1.857</td><td>1.366</td><td>0.511</td><td>0.626</td><td>0.272</td><td>0.340</td></tr>\n",
       "\t<tr><td>Lithuania               </td><td>Central and Eastern Europe  </td><td>6.763</td><td>1.808</td><td>1.511</td><td>0.432</td><td>0.487</td><td>0.059</td><td>0.089</td></tr>\n",
       "\t<tr><td>France                  </td><td>Western Europe              </td><td>6.661</td><td>1.856</td><td>1.433</td><td>0.566</td><td>0.582</td><td>0.083</td><td>0.270</td></tr>\n",
       "\t<tr><td>Slovenia                </td><td>Central and Eastern Europe  </td><td>6.650</td><td>1.815</td><td>1.539</td><td>0.532</td><td>0.707</td><td>0.144</td><td>0.113</td></tr>\n",
       "\t<tr><td>Costa Rica              </td><td>Latin America and Caribbean </td><td>6.609</td><td>1.587</td><td>1.340</td><td>0.503</td><td>0.683</td><td>0.099</td><td>0.116</td></tr>\n",
       "\t<tr><td>Romania                 </td><td>Central and Eastern Europe  </td><td>6.589</td><td>1.726</td><td>1.280</td><td>0.423</td><td>0.631</td><td>0.044</td><td>0.000</td></tr>\n",
       "\t<tr><td>Singapore               </td><td>Southeast Asia              </td><td>6.587</td><td>2.168</td><td>1.354</td><td>0.607</td><td>0.660</td><td>0.170</td><td>0.561</td></tr>\n",
       "\t<tr><td>United Arab Emirates    </td><td>Middle East and North Africa</td><td>6.571</td><td>2.015</td><td>1.223</td><td>0.401</td><td>0.745</td><td>0.188</td><td>0.247</td></tr>\n",
       "\t<tr><td>Taiwan Province of China</td><td>East Asia                   </td><td>6.535</td><td>1.890</td><td>1.372</td><td>0.492</td><td>0.562</td><td>0.067</td><td>0.178</td></tr>\n",
       "\t<tr><td>Uruguay                 </td><td>Latin America and Caribbean </td><td>6.494</td><td>1.617</td><td>1.445</td><td>0.435</td><td>0.683</td><td>0.102</td><td>0.254</td></tr>\n",
       "\t<tr><td>Slovakia                </td><td>Central and Eastern Europe  </td><td>6.469</td><td>1.731</td><td>1.544</td><td>0.472</td><td>0.494</td><td>0.128</td><td>0.022</td></tr>\n",
       "\t<tr><td>Saudi Arabia            </td><td>Middle East and North Africa</td><td>6.463</td><td>1.861</td><td>1.370</td><td>0.351</td><td>0.682</td><td>0.093</td><td>0.170</td></tr>\n",
       "\t<tr><td>⋮</td><td>⋮</td><td>⋮</td><td>⋮</td><td>⋮</td><td>⋮</td><td>⋮</td><td>⋮</td><td>⋮</td></tr>\n",
       "\t<tr><td>Pakistan        </td><td>South Asia                  </td><td>4.555</td><td>1.081</td><td>0.657</td><td>0.158</td><td>0.511</td><td>0.141</td><td>0.102</td></tr>\n",
       "\t<tr><td>Niger           </td><td>Sub-Saharan Africa          </td><td>4.501</td><td>0.561</td><td>0.628</td><td>0.137</td><td>0.540</td><td>0.154</td><td>0.140</td></tr>\n",
       "\t<tr><td>Tunisia         </td><td>Middle East and North Africa</td><td>4.497</td><td>1.333</td><td>0.981</td><td>0.422</td><td>0.259</td><td>0.022</td><td>0.016</td></tr>\n",
       "\t<tr><td>Kenya           </td><td>Sub-Saharan Africa          </td><td>4.487</td><td>1.051</td><td>0.881</td><td>0.190</td><td>0.418</td><td>0.291</td><td>0.055</td></tr>\n",
       "\t<tr><td>Sri Lanka       </td><td>South Asia                  </td><td>4.442</td><td>1.422</td><td>1.224</td><td>0.426</td><td>0.539</td><td>0.120</td><td>0.086</td></tr>\n",
       "\t<tr><td>Uganda          </td><td>Sub-Saharan Africa          </td><td>4.432</td><td>0.785</td><td>1.144</td><td>0.201</td><td>0.425</td><td>0.197</td><td>0.051</td></tr>\n",
       "\t<tr><td>Chad            </td><td>Sub-Saharan Africa          </td><td>4.397</td><td>0.622</td><td>0.962</td><td>0.043</td><td>0.393</td><td>0.255</td><td>0.088</td></tr>\n",
       "\t<tr><td>Cambodia        </td><td>Southeast Asia              </td><td>4.393</td><td>1.025</td><td>1.024</td><td>0.283</td><td>0.768</td><td>0.176</td><td>0.051</td></tr>\n",
       "\t<tr><td>Benin           </td><td>Sub-Saharan Africa          </td><td>4.374</td><td>0.924</td><td>0.242</td><td>0.124</td><td>0.481</td><td>0.114</td><td>0.253</td></tr>\n",
       "\t<tr><td>Myanmar         </td><td>Southeast Asia              </td><td>4.372</td><td>1.032</td><td>1.125</td><td>0.269</td><td>0.460</td><td>0.400</td><td>0.194</td></tr>\n",
       "\t<tr><td>Bangladesh      </td><td>South Asia                  </td><td>4.282</td><td>1.133</td><td>0.513</td><td>0.355</td><td>0.617</td><td>0.139</td><td>0.165</td></tr>\n",
       "\t<tr><td>Gambia          </td><td>Sub-Saharan Africa          </td><td>4.279</td><td>0.761</td><td>0.614</td><td>0.174</td><td>0.286</td><td>0.332</td><td>0.033</td></tr>\n",
       "\t<tr><td>Mali            </td><td>Sub-Saharan Africa          </td><td>4.198</td><td>0.763</td><td>0.637</td><td>0.106</td><td>0.441</td><td>0.121</td><td>0.059</td></tr>\n",
       "\t<tr><td>Egypt           </td><td>Middle East and North Africa</td><td>4.170</td><td>1.377</td><td>0.972</td><td>0.326</td><td>0.467</td><td>0.038</td><td>0.250</td></tr>\n",
       "\t<tr><td>Togo            </td><td>Sub-Saharan Africa          </td><td>4.137</td><td>0.770</td><td>0.642</td><td>0.161</td><td>0.367</td><td>0.149</td><td>0.136</td></tr>\n",
       "\t<tr><td>Jordan          </td><td>Middle East and North Africa</td><td>4.120</td><td>1.292</td><td>0.980</td><td>0.438</td><td>0.517</td><td>0.056</td><td>0.173</td></tr>\n",
       "\t<tr><td>Ethiopia        </td><td>Sub-Saharan Africa          </td><td>4.091</td><td>0.793</td><td>1.114</td><td>0.250</td><td>0.451</td><td>0.283</td><td>0.101</td></tr>\n",
       "\t<tr><td>Liberia         </td><td>Sub-Saharan Africa          </td><td>4.042</td><td>0.628</td><td>0.644</td><td>0.141</td><td>0.471</td><td>0.219</td><td>0.071</td></tr>\n",
       "\t<tr><td>India           </td><td>South Asia                  </td><td>4.036</td><td>1.159</td><td>0.674</td><td>0.252</td><td>0.685</td><td>0.175</td><td>0.111</td></tr>\n",
       "\t<tr><td>Madagascar      </td><td>Sub-Saharan Africa          </td><td>4.019</td><td>0.632</td><td>0.779</td><td>0.178</td><td>0.187</td><td>0.177</td><td>0.134</td></tr>\n",
       "\t<tr><td>Zambia          </td><td>Sub-Saharan Africa          </td><td>3.982</td><td>0.914</td><td>0.890</td><td>0.095</td><td>0.545</td><td>0.189</td><td>0.080</td></tr>\n",
       "\t<tr><td>Tanzania        </td><td>Sub-Saharan Africa          </td><td>3.694</td><td>0.836</td><td>0.787</td><td>0.214</td><td>0.607</td><td>0.234</td><td>0.269</td></tr>\n",
       "\t<tr><td>Comoros         </td><td>Sub-Saharan Africa          </td><td>3.545</td><td>0.914</td><td>0.327</td><td>0.215</td><td>0.117</td><td>0.129</td><td>0.145</td></tr>\n",
       "\t<tr><td>Malawi          </td><td>Sub-Saharan Africa          </td><td>3.495</td><td>0.637</td><td>0.479</td><td>0.189</td><td>0.490</td><td>0.139</td><td>0.129</td></tr>\n",
       "\t<tr><td>Botswana        </td><td>Sub-Saharan Africa          </td><td>3.435</td><td>1.471</td><td>1.041</td><td>0.087</td><td>0.480</td><td>0.021</td><td>0.071</td></tr>\n",
       "\t<tr><td>Congo (Kinshasa)</td><td>Sub-Saharan Africa          </td><td>3.207</td><td>0.531</td><td>0.784</td><td>0.105</td><td>0.375</td><td>0.183</td><td>0.068</td></tr>\n",
       "\t<tr><td>Zimbabwe        </td><td>Sub-Saharan Africa          </td><td>3.204</td><td>0.758</td><td>0.881</td><td>0.069</td><td>0.363</td><td>0.112</td><td>0.117</td></tr>\n",
       "\t<tr><td>Sierra Leone    </td><td>Sub-Saharan Africa          </td><td>3.138</td><td>0.670</td><td>0.540</td><td>0.092</td><td>0.371</td><td>0.193</td><td>0.051</td></tr>\n",
       "\t<tr><td>Lebanon         </td><td>Middle East and North Africa</td><td>2.392</td><td>1.417</td><td>0.476</td><td>0.398</td><td>0.123</td><td>0.061</td><td>0.027</td></tr>\n",
       "\t<tr><td>Afghanistan     </td><td>South Asia                  </td><td>1.859</td><td>0.645</td><td>0.000</td><td>0.087</td><td>0.000</td><td>0.093</td><td>0.059</td></tr>\n",
       "</tbody>\n",
       "</table>\n"
      ],
      "text/latex": [
       "A data.frame: 137 × 9\n",
       "\\begin{tabular}{lllllllll}\n",
       " country & region & happiness\\_score & gdp\\_per\\_capita & social\\_support & healthy\\_life\\_expectancy & freedom\\_to\\_make\\_life\\_choices & generosity & perceptions\\_of\\_corruption\\\\\n",
       " <chr> & <chr> & <dbl> & <dbl> & <dbl> & <dbl> & <dbl> & <dbl> & <dbl>\\\\\n",
       "\\hline\n",
       "\t Finland                  & Western Europe               & 7.804 & 1.888 & 1.585 & 0.535 & 0.772 & 0.126 & 0.535\\\\\n",
       "\t Denmark                  & Western Europe               & 7.586 & 1.949 & 1.548 & 0.537 & 0.734 & 0.208 & 0.525\\\\\n",
       "\t Iceland                  & Western Europe               & 7.530 & 1.926 & 1.620 & 0.559 & 0.738 & 0.250 & 0.187\\\\\n",
       "\t Israel                   & Middle East and North Africa & 7.473 & 1.833 & 1.521 & 0.577 & 0.569 & 0.124 & 0.158\\\\\n",
       "\t Netherlands              & Western Europe               & 7.403 & 1.942 & 1.488 & 0.545 & 0.672 & 0.251 & 0.394\\\\\n",
       "\t Sweden                   & Western Europe               & 7.395 & 1.921 & 1.510 & 0.562 & 0.754 & 0.225 & 0.520\\\\\n",
       "\t Norway                   & Western Europe               & 7.315 & 1.994 & 1.521 & 0.544 & 0.752 & 0.212 & 0.463\\\\\n",
       "\t Switzerland              & Western Europe               & 7.240 & 2.022 & 1.463 & 0.582 & 0.678 & 0.151 & 0.475\\\\\n",
       "\t Luxembourg               & Western Europe               & 7.228 & 2.200 & 1.357 & 0.549 & 0.710 & 0.149 & 0.418\\\\\n",
       "\t New Zealand              & North America and ANZ        & 7.123 & 1.842 & 1.544 & 0.513 & 0.672 & 0.230 & 0.471\\\\\n",
       "\t Austria                  & Western Europe               & 7.097 & 1.927 & 1.382 & 0.535 & 0.630 & 0.191 & 0.310\\\\\n",
       "\t Australia                & North America and ANZ        & 7.095 & 1.899 & 1.497 & 0.532 & 0.677 & 0.242 & 0.310\\\\\n",
       "\t Canada                   & North America and ANZ        & 6.961 & 1.881 & 1.484 & 0.541 & 0.656 & 0.218 & 0.364\\\\\n",
       "\t Ireland                  & Western Europe               & 6.911 & 2.152 & 1.425 & 0.539 & 0.656 & 0.186 & 0.409\\\\\n",
       "\t United States            & North America and ANZ        & 6.894 & 1.980 & 1.460 & 0.390 & 0.557 & 0.210 & 0.172\\\\\n",
       "\t Germany                  & Western Europe               & 6.892 & 1.919 & 1.401 & 0.539 & 0.618 & 0.153 & 0.365\\\\\n",
       "\t Belgium                  & Western Europe               & 6.859 & 1.907 & 1.449 & 0.528 & 0.590 & 0.137 & 0.273\\\\\n",
       "\t Czechia                  & Central and Eastern Europe   & 6.845 & 1.823 & 1.544 & 0.477 & 0.693 & 0.158 & 0.050\\\\\n",
       "\t United Kingdom           & Western Europe               & 6.796 & 1.857 & 1.366 & 0.511 & 0.626 & 0.272 & 0.340\\\\\n",
       "\t Lithuania                & Central and Eastern Europe   & 6.763 & 1.808 & 1.511 & 0.432 & 0.487 & 0.059 & 0.089\\\\\n",
       "\t France                   & Western Europe               & 6.661 & 1.856 & 1.433 & 0.566 & 0.582 & 0.083 & 0.270\\\\\n",
       "\t Slovenia                 & Central and Eastern Europe   & 6.650 & 1.815 & 1.539 & 0.532 & 0.707 & 0.144 & 0.113\\\\\n",
       "\t Costa Rica               & Latin America and Caribbean  & 6.609 & 1.587 & 1.340 & 0.503 & 0.683 & 0.099 & 0.116\\\\\n",
       "\t Romania                  & Central and Eastern Europe   & 6.589 & 1.726 & 1.280 & 0.423 & 0.631 & 0.044 & 0.000\\\\\n",
       "\t Singapore                & Southeast Asia               & 6.587 & 2.168 & 1.354 & 0.607 & 0.660 & 0.170 & 0.561\\\\\n",
       "\t United Arab Emirates     & Middle East and North Africa & 6.571 & 2.015 & 1.223 & 0.401 & 0.745 & 0.188 & 0.247\\\\\n",
       "\t Taiwan Province of China & East Asia                    & 6.535 & 1.890 & 1.372 & 0.492 & 0.562 & 0.067 & 0.178\\\\\n",
       "\t Uruguay                  & Latin America and Caribbean  & 6.494 & 1.617 & 1.445 & 0.435 & 0.683 & 0.102 & 0.254\\\\\n",
       "\t Slovakia                 & Central and Eastern Europe   & 6.469 & 1.731 & 1.544 & 0.472 & 0.494 & 0.128 & 0.022\\\\\n",
       "\t Saudi Arabia             & Middle East and North Africa & 6.463 & 1.861 & 1.370 & 0.351 & 0.682 & 0.093 & 0.170\\\\\n",
       "\t ⋮ & ⋮ & ⋮ & ⋮ & ⋮ & ⋮ & ⋮ & ⋮ & ⋮\\\\\n",
       "\t Pakistan         & South Asia                   & 4.555 & 1.081 & 0.657 & 0.158 & 0.511 & 0.141 & 0.102\\\\\n",
       "\t Niger            & Sub-Saharan Africa           & 4.501 & 0.561 & 0.628 & 0.137 & 0.540 & 0.154 & 0.140\\\\\n",
       "\t Tunisia          & Middle East and North Africa & 4.497 & 1.333 & 0.981 & 0.422 & 0.259 & 0.022 & 0.016\\\\\n",
       "\t Kenya            & Sub-Saharan Africa           & 4.487 & 1.051 & 0.881 & 0.190 & 0.418 & 0.291 & 0.055\\\\\n",
       "\t Sri Lanka        & South Asia                   & 4.442 & 1.422 & 1.224 & 0.426 & 0.539 & 0.120 & 0.086\\\\\n",
       "\t Uganda           & Sub-Saharan Africa           & 4.432 & 0.785 & 1.144 & 0.201 & 0.425 & 0.197 & 0.051\\\\\n",
       "\t Chad             & Sub-Saharan Africa           & 4.397 & 0.622 & 0.962 & 0.043 & 0.393 & 0.255 & 0.088\\\\\n",
       "\t Cambodia         & Southeast Asia               & 4.393 & 1.025 & 1.024 & 0.283 & 0.768 & 0.176 & 0.051\\\\\n",
       "\t Benin            & Sub-Saharan Africa           & 4.374 & 0.924 & 0.242 & 0.124 & 0.481 & 0.114 & 0.253\\\\\n",
       "\t Myanmar          & Southeast Asia               & 4.372 & 1.032 & 1.125 & 0.269 & 0.460 & 0.400 & 0.194\\\\\n",
       "\t Bangladesh       & South Asia                   & 4.282 & 1.133 & 0.513 & 0.355 & 0.617 & 0.139 & 0.165\\\\\n",
       "\t Gambia           & Sub-Saharan Africa           & 4.279 & 0.761 & 0.614 & 0.174 & 0.286 & 0.332 & 0.033\\\\\n",
       "\t Mali             & Sub-Saharan Africa           & 4.198 & 0.763 & 0.637 & 0.106 & 0.441 & 0.121 & 0.059\\\\\n",
       "\t Egypt            & Middle East and North Africa & 4.170 & 1.377 & 0.972 & 0.326 & 0.467 & 0.038 & 0.250\\\\\n",
       "\t Togo             & Sub-Saharan Africa           & 4.137 & 0.770 & 0.642 & 0.161 & 0.367 & 0.149 & 0.136\\\\\n",
       "\t Jordan           & Middle East and North Africa & 4.120 & 1.292 & 0.980 & 0.438 & 0.517 & 0.056 & 0.173\\\\\n",
       "\t Ethiopia         & Sub-Saharan Africa           & 4.091 & 0.793 & 1.114 & 0.250 & 0.451 & 0.283 & 0.101\\\\\n",
       "\t Liberia          & Sub-Saharan Africa           & 4.042 & 0.628 & 0.644 & 0.141 & 0.471 & 0.219 & 0.071\\\\\n",
       "\t India            & South Asia                   & 4.036 & 1.159 & 0.674 & 0.252 & 0.685 & 0.175 & 0.111\\\\\n",
       "\t Madagascar       & Sub-Saharan Africa           & 4.019 & 0.632 & 0.779 & 0.178 & 0.187 & 0.177 & 0.134\\\\\n",
       "\t Zambia           & Sub-Saharan Africa           & 3.982 & 0.914 & 0.890 & 0.095 & 0.545 & 0.189 & 0.080\\\\\n",
       "\t Tanzania         & Sub-Saharan Africa           & 3.694 & 0.836 & 0.787 & 0.214 & 0.607 & 0.234 & 0.269\\\\\n",
       "\t Comoros          & Sub-Saharan Africa           & 3.545 & 0.914 & 0.327 & 0.215 & 0.117 & 0.129 & 0.145\\\\\n",
       "\t Malawi           & Sub-Saharan Africa           & 3.495 & 0.637 & 0.479 & 0.189 & 0.490 & 0.139 & 0.129\\\\\n",
       "\t Botswana         & Sub-Saharan Africa           & 3.435 & 1.471 & 1.041 & 0.087 & 0.480 & 0.021 & 0.071\\\\\n",
       "\t Congo (Kinshasa) & Sub-Saharan Africa           & 3.207 & 0.531 & 0.784 & 0.105 & 0.375 & 0.183 & 0.068\\\\\n",
       "\t Zimbabwe         & Sub-Saharan Africa           & 3.204 & 0.758 & 0.881 & 0.069 & 0.363 & 0.112 & 0.117\\\\\n",
       "\t Sierra Leone     & Sub-Saharan Africa           & 3.138 & 0.670 & 0.540 & 0.092 & 0.371 & 0.193 & 0.051\\\\\n",
       "\t Lebanon          & Middle East and North Africa & 2.392 & 1.417 & 0.476 & 0.398 & 0.123 & 0.061 & 0.027\\\\\n",
       "\t Afghanistan      & South Asia                   & 1.859 & 0.645 & 0.000 & 0.087 & 0.000 & 0.093 & 0.059\\\\\n",
       "\\end{tabular}\n"
      ],
      "text/markdown": [
       "\n",
       "A data.frame: 137 × 9\n",
       "\n",
       "| country &lt;chr&gt; | region &lt;chr&gt; | happiness_score &lt;dbl&gt; | gdp_per_capita &lt;dbl&gt; | social_support &lt;dbl&gt; | healthy_life_expectancy &lt;dbl&gt; | freedom_to_make_life_choices &lt;dbl&gt; | generosity &lt;dbl&gt; | perceptions_of_corruption &lt;dbl&gt; |\n",
       "|---|---|---|---|---|---|---|---|---|\n",
       "| Finland                  | Western Europe               | 7.804 | 1.888 | 1.585 | 0.535 | 0.772 | 0.126 | 0.535 |\n",
       "| Denmark                  | Western Europe               | 7.586 | 1.949 | 1.548 | 0.537 | 0.734 | 0.208 | 0.525 |\n",
       "| Iceland                  | Western Europe               | 7.530 | 1.926 | 1.620 | 0.559 | 0.738 | 0.250 | 0.187 |\n",
       "| Israel                   | Middle East and North Africa | 7.473 | 1.833 | 1.521 | 0.577 | 0.569 | 0.124 | 0.158 |\n",
       "| Netherlands              | Western Europe               | 7.403 | 1.942 | 1.488 | 0.545 | 0.672 | 0.251 | 0.394 |\n",
       "| Sweden                   | Western Europe               | 7.395 | 1.921 | 1.510 | 0.562 | 0.754 | 0.225 | 0.520 |\n",
       "| Norway                   | Western Europe               | 7.315 | 1.994 | 1.521 | 0.544 | 0.752 | 0.212 | 0.463 |\n",
       "| Switzerland              | Western Europe               | 7.240 | 2.022 | 1.463 | 0.582 | 0.678 | 0.151 | 0.475 |\n",
       "| Luxembourg               | Western Europe               | 7.228 | 2.200 | 1.357 | 0.549 | 0.710 | 0.149 | 0.418 |\n",
       "| New Zealand              | North America and ANZ        | 7.123 | 1.842 | 1.544 | 0.513 | 0.672 | 0.230 | 0.471 |\n",
       "| Austria                  | Western Europe               | 7.097 | 1.927 | 1.382 | 0.535 | 0.630 | 0.191 | 0.310 |\n",
       "| Australia                | North America and ANZ        | 7.095 | 1.899 | 1.497 | 0.532 | 0.677 | 0.242 | 0.310 |\n",
       "| Canada                   | North America and ANZ        | 6.961 | 1.881 | 1.484 | 0.541 | 0.656 | 0.218 | 0.364 |\n",
       "| Ireland                  | Western Europe               | 6.911 | 2.152 | 1.425 | 0.539 | 0.656 | 0.186 | 0.409 |\n",
       "| United States            | North America and ANZ        | 6.894 | 1.980 | 1.460 | 0.390 | 0.557 | 0.210 | 0.172 |\n",
       "| Germany                  | Western Europe               | 6.892 | 1.919 | 1.401 | 0.539 | 0.618 | 0.153 | 0.365 |\n",
       "| Belgium                  | Western Europe               | 6.859 | 1.907 | 1.449 | 0.528 | 0.590 | 0.137 | 0.273 |\n",
       "| Czechia                  | Central and Eastern Europe   | 6.845 | 1.823 | 1.544 | 0.477 | 0.693 | 0.158 | 0.050 |\n",
       "| United Kingdom           | Western Europe               | 6.796 | 1.857 | 1.366 | 0.511 | 0.626 | 0.272 | 0.340 |\n",
       "| Lithuania                | Central and Eastern Europe   | 6.763 | 1.808 | 1.511 | 0.432 | 0.487 | 0.059 | 0.089 |\n",
       "| France                   | Western Europe               | 6.661 | 1.856 | 1.433 | 0.566 | 0.582 | 0.083 | 0.270 |\n",
       "| Slovenia                 | Central and Eastern Europe   | 6.650 | 1.815 | 1.539 | 0.532 | 0.707 | 0.144 | 0.113 |\n",
       "| Costa Rica               | Latin America and Caribbean  | 6.609 | 1.587 | 1.340 | 0.503 | 0.683 | 0.099 | 0.116 |\n",
       "| Romania                  | Central and Eastern Europe   | 6.589 | 1.726 | 1.280 | 0.423 | 0.631 | 0.044 | 0.000 |\n",
       "| Singapore                | Southeast Asia               | 6.587 | 2.168 | 1.354 | 0.607 | 0.660 | 0.170 | 0.561 |\n",
       "| United Arab Emirates     | Middle East and North Africa | 6.571 | 2.015 | 1.223 | 0.401 | 0.745 | 0.188 | 0.247 |\n",
       "| Taiwan Province of China | East Asia                    | 6.535 | 1.890 | 1.372 | 0.492 | 0.562 | 0.067 | 0.178 |\n",
       "| Uruguay                  | Latin America and Caribbean  | 6.494 | 1.617 | 1.445 | 0.435 | 0.683 | 0.102 | 0.254 |\n",
       "| Slovakia                 | Central and Eastern Europe   | 6.469 | 1.731 | 1.544 | 0.472 | 0.494 | 0.128 | 0.022 |\n",
       "| Saudi Arabia             | Middle East and North Africa | 6.463 | 1.861 | 1.370 | 0.351 | 0.682 | 0.093 | 0.170 |\n",
       "| ⋮ | ⋮ | ⋮ | ⋮ | ⋮ | ⋮ | ⋮ | ⋮ | ⋮ |\n",
       "| Pakistan         | South Asia                   | 4.555 | 1.081 | 0.657 | 0.158 | 0.511 | 0.141 | 0.102 |\n",
       "| Niger            | Sub-Saharan Africa           | 4.501 | 0.561 | 0.628 | 0.137 | 0.540 | 0.154 | 0.140 |\n",
       "| Tunisia          | Middle East and North Africa | 4.497 | 1.333 | 0.981 | 0.422 | 0.259 | 0.022 | 0.016 |\n",
       "| Kenya            | Sub-Saharan Africa           | 4.487 | 1.051 | 0.881 | 0.190 | 0.418 | 0.291 | 0.055 |\n",
       "| Sri Lanka        | South Asia                   | 4.442 | 1.422 | 1.224 | 0.426 | 0.539 | 0.120 | 0.086 |\n",
       "| Uganda           | Sub-Saharan Africa           | 4.432 | 0.785 | 1.144 | 0.201 | 0.425 | 0.197 | 0.051 |\n",
       "| Chad             | Sub-Saharan Africa           | 4.397 | 0.622 | 0.962 | 0.043 | 0.393 | 0.255 | 0.088 |\n",
       "| Cambodia         | Southeast Asia               | 4.393 | 1.025 | 1.024 | 0.283 | 0.768 | 0.176 | 0.051 |\n",
       "| Benin            | Sub-Saharan Africa           | 4.374 | 0.924 | 0.242 | 0.124 | 0.481 | 0.114 | 0.253 |\n",
       "| Myanmar          | Southeast Asia               | 4.372 | 1.032 | 1.125 | 0.269 | 0.460 | 0.400 | 0.194 |\n",
       "| Bangladesh       | South Asia                   | 4.282 | 1.133 | 0.513 | 0.355 | 0.617 | 0.139 | 0.165 |\n",
       "| Gambia           | Sub-Saharan Africa           | 4.279 | 0.761 | 0.614 | 0.174 | 0.286 | 0.332 | 0.033 |\n",
       "| Mali             | Sub-Saharan Africa           | 4.198 | 0.763 | 0.637 | 0.106 | 0.441 | 0.121 | 0.059 |\n",
       "| Egypt            | Middle East and North Africa | 4.170 | 1.377 | 0.972 | 0.326 | 0.467 | 0.038 | 0.250 |\n",
       "| Togo             | Sub-Saharan Africa           | 4.137 | 0.770 | 0.642 | 0.161 | 0.367 | 0.149 | 0.136 |\n",
       "| Jordan           | Middle East and North Africa | 4.120 | 1.292 | 0.980 | 0.438 | 0.517 | 0.056 | 0.173 |\n",
       "| Ethiopia         | Sub-Saharan Africa           | 4.091 | 0.793 | 1.114 | 0.250 | 0.451 | 0.283 | 0.101 |\n",
       "| Liberia          | Sub-Saharan Africa           | 4.042 | 0.628 | 0.644 | 0.141 | 0.471 | 0.219 | 0.071 |\n",
       "| India            | South Asia                   | 4.036 | 1.159 | 0.674 | 0.252 | 0.685 | 0.175 | 0.111 |\n",
       "| Madagascar       | Sub-Saharan Africa           | 4.019 | 0.632 | 0.779 | 0.178 | 0.187 | 0.177 | 0.134 |\n",
       "| Zambia           | Sub-Saharan Africa           | 3.982 | 0.914 | 0.890 | 0.095 | 0.545 | 0.189 | 0.080 |\n",
       "| Tanzania         | Sub-Saharan Africa           | 3.694 | 0.836 | 0.787 | 0.214 | 0.607 | 0.234 | 0.269 |\n",
       "| Comoros          | Sub-Saharan Africa           | 3.545 | 0.914 | 0.327 | 0.215 | 0.117 | 0.129 | 0.145 |\n",
       "| Malawi           | Sub-Saharan Africa           | 3.495 | 0.637 | 0.479 | 0.189 | 0.490 | 0.139 | 0.129 |\n",
       "| Botswana         | Sub-Saharan Africa           | 3.435 | 1.471 | 1.041 | 0.087 | 0.480 | 0.021 | 0.071 |\n",
       "| Congo (Kinshasa) | Sub-Saharan Africa           | 3.207 | 0.531 | 0.784 | 0.105 | 0.375 | 0.183 | 0.068 |\n",
       "| Zimbabwe         | Sub-Saharan Africa           | 3.204 | 0.758 | 0.881 | 0.069 | 0.363 | 0.112 | 0.117 |\n",
       "| Sierra Leone     | Sub-Saharan Africa           | 3.138 | 0.670 | 0.540 | 0.092 | 0.371 | 0.193 | 0.051 |\n",
       "| Lebanon          | Middle East and North Africa | 2.392 | 1.417 | 0.476 | 0.398 | 0.123 | 0.061 | 0.027 |\n",
       "| Afghanistan      | South Asia                   | 1.859 | 0.645 | 0.000 | 0.087 | 0.000 | 0.093 | 0.059 |\n",
       "\n"
      ],
      "text/plain": [
       "    country                  region                       happiness_score\n",
       "1   Finland                  Western Europe               7.804          \n",
       "2   Denmark                  Western Europe               7.586          \n",
       "3   Iceland                  Western Europe               7.530          \n",
       "4   Israel                   Middle East and North Africa 7.473          \n",
       "5   Netherlands              Western Europe               7.403          \n",
       "6   Sweden                   Western Europe               7.395          \n",
       "7   Norway                   Western Europe               7.315          \n",
       "8   Switzerland              Western Europe               7.240          \n",
       "9   Luxembourg               Western Europe               7.228          \n",
       "10  New Zealand              North America and ANZ        7.123          \n",
       "11  Austria                  Western Europe               7.097          \n",
       "12  Australia                North America and ANZ        7.095          \n",
       "13  Canada                   North America and ANZ        6.961          \n",
       "14  Ireland                  Western Europe               6.911          \n",
       "15  United States            North America and ANZ        6.894          \n",
       "16  Germany                  Western Europe               6.892          \n",
       "17  Belgium                  Western Europe               6.859          \n",
       "18  Czechia                  Central and Eastern Europe   6.845          \n",
       "19  United Kingdom           Western Europe               6.796          \n",
       "20  Lithuania                Central and Eastern Europe   6.763          \n",
       "21  France                   Western Europe               6.661          \n",
       "22  Slovenia                 Central and Eastern Europe   6.650          \n",
       "23  Costa Rica               Latin America and Caribbean  6.609          \n",
       "24  Romania                  Central and Eastern Europe   6.589          \n",
       "25  Singapore                Southeast Asia               6.587          \n",
       "26  United Arab Emirates     Middle East and North Africa 6.571          \n",
       "27  Taiwan Province of China East Asia                    6.535          \n",
       "28  Uruguay                  Latin America and Caribbean  6.494          \n",
       "29  Slovakia                 Central and Eastern Europe   6.469          \n",
       "30  Saudi Arabia             Middle East and North Africa 6.463          \n",
       "⋮   ⋮                        ⋮                            ⋮              \n",
       "108 Pakistan                 South Asia                   4.555          \n",
       "109 Niger                    Sub-Saharan Africa           4.501          \n",
       "110 Tunisia                  Middle East and North Africa 4.497          \n",
       "111 Kenya                    Sub-Saharan Africa           4.487          \n",
       "112 Sri Lanka                South Asia                   4.442          \n",
       "113 Uganda                   Sub-Saharan Africa           4.432          \n",
       "114 Chad                     Sub-Saharan Africa           4.397          \n",
       "115 Cambodia                 Southeast Asia               4.393          \n",
       "116 Benin                    Sub-Saharan Africa           4.374          \n",
       "117 Myanmar                  Southeast Asia               4.372          \n",
       "118 Bangladesh               South Asia                   4.282          \n",
       "119 Gambia                   Sub-Saharan Africa           4.279          \n",
       "120 Mali                     Sub-Saharan Africa           4.198          \n",
       "121 Egypt                    Middle East and North Africa 4.170          \n",
       "122 Togo                     Sub-Saharan Africa           4.137          \n",
       "123 Jordan                   Middle East and North Africa 4.120          \n",
       "124 Ethiopia                 Sub-Saharan Africa           4.091          \n",
       "125 Liberia                  Sub-Saharan Africa           4.042          \n",
       "126 India                    South Asia                   4.036          \n",
       "127 Madagascar               Sub-Saharan Africa           4.019          \n",
       "128 Zambia                   Sub-Saharan Africa           3.982          \n",
       "129 Tanzania                 Sub-Saharan Africa           3.694          \n",
       "130 Comoros                  Sub-Saharan Africa           3.545          \n",
       "131 Malawi                   Sub-Saharan Africa           3.495          \n",
       "132 Botswana                 Sub-Saharan Africa           3.435          \n",
       "133 Congo (Kinshasa)         Sub-Saharan Africa           3.207          \n",
       "134 Zimbabwe                 Sub-Saharan Africa           3.204          \n",
       "135 Sierra Leone             Sub-Saharan Africa           3.138          \n",
       "136 Lebanon                  Middle East and North Africa 2.392          \n",
       "137 Afghanistan              South Asia                   1.859          \n",
       "    gdp_per_capita social_support healthy_life_expectancy\n",
       "1   1.888          1.585          0.535                  \n",
       "2   1.949          1.548          0.537                  \n",
       "3   1.926          1.620          0.559                  \n",
       "4   1.833          1.521          0.577                  \n",
       "5   1.942          1.488          0.545                  \n",
       "6   1.921          1.510          0.562                  \n",
       "7   1.994          1.521          0.544                  \n",
       "8   2.022          1.463          0.582                  \n",
       "9   2.200          1.357          0.549                  \n",
       "10  1.842          1.544          0.513                  \n",
       "11  1.927          1.382          0.535                  \n",
       "12  1.899          1.497          0.532                  \n",
       "13  1.881          1.484          0.541                  \n",
       "14  2.152          1.425          0.539                  \n",
       "15  1.980          1.460          0.390                  \n",
       "16  1.919          1.401          0.539                  \n",
       "17  1.907          1.449          0.528                  \n",
       "18  1.823          1.544          0.477                  \n",
       "19  1.857          1.366          0.511                  \n",
       "20  1.808          1.511          0.432                  \n",
       "21  1.856          1.433          0.566                  \n",
       "22  1.815          1.539          0.532                  \n",
       "23  1.587          1.340          0.503                  \n",
       "24  1.726          1.280          0.423                  \n",
       "25  2.168          1.354          0.607                  \n",
       "26  2.015          1.223          0.401                  \n",
       "27  1.890          1.372          0.492                  \n",
       "28  1.617          1.445          0.435                  \n",
       "29  1.731          1.544          0.472                  \n",
       "30  1.861          1.370          0.351                  \n",
       "⋮   ⋮              ⋮              ⋮                      \n",
       "108 1.081          0.657          0.158                  \n",
       "109 0.561          0.628          0.137                  \n",
       "110 1.333          0.981          0.422                  \n",
       "111 1.051          0.881          0.190                  \n",
       "112 1.422          1.224          0.426                  \n",
       "113 0.785          1.144          0.201                  \n",
       "114 0.622          0.962          0.043                  \n",
       "115 1.025          1.024          0.283                  \n",
       "116 0.924          0.242          0.124                  \n",
       "117 1.032          1.125          0.269                  \n",
       "118 1.133          0.513          0.355                  \n",
       "119 0.761          0.614          0.174                  \n",
       "120 0.763          0.637          0.106                  \n",
       "121 1.377          0.972          0.326                  \n",
       "122 0.770          0.642          0.161                  \n",
       "123 1.292          0.980          0.438                  \n",
       "124 0.793          1.114          0.250                  \n",
       "125 0.628          0.644          0.141                  \n",
       "126 1.159          0.674          0.252                  \n",
       "127 0.632          0.779          0.178                  \n",
       "128 0.914          0.890          0.095                  \n",
       "129 0.836          0.787          0.214                  \n",
       "130 0.914          0.327          0.215                  \n",
       "131 0.637          0.479          0.189                  \n",
       "132 1.471          1.041          0.087                  \n",
       "133 0.531          0.784          0.105                  \n",
       "134 0.758          0.881          0.069                  \n",
       "135 0.670          0.540          0.092                  \n",
       "136 1.417          0.476          0.398                  \n",
       "137 0.645          0.000          0.087                  \n",
       "    freedom_to_make_life_choices generosity perceptions_of_corruption\n",
       "1   0.772                        0.126      0.535                    \n",
       "2   0.734                        0.208      0.525                    \n",
       "3   0.738                        0.250      0.187                    \n",
       "4   0.569                        0.124      0.158                    \n",
       "5   0.672                        0.251      0.394                    \n",
       "6   0.754                        0.225      0.520                    \n",
       "7   0.752                        0.212      0.463                    \n",
       "8   0.678                        0.151      0.475                    \n",
       "9   0.710                        0.149      0.418                    \n",
       "10  0.672                        0.230      0.471                    \n",
       "11  0.630                        0.191      0.310                    \n",
       "12  0.677                        0.242      0.310                    \n",
       "13  0.656                        0.218      0.364                    \n",
       "14  0.656                        0.186      0.409                    \n",
       "15  0.557                        0.210      0.172                    \n",
       "16  0.618                        0.153      0.365                    \n",
       "17  0.590                        0.137      0.273                    \n",
       "18  0.693                        0.158      0.050                    \n",
       "19  0.626                        0.272      0.340                    \n",
       "20  0.487                        0.059      0.089                    \n",
       "21  0.582                        0.083      0.270                    \n",
       "22  0.707                        0.144      0.113                    \n",
       "23  0.683                        0.099      0.116                    \n",
       "24  0.631                        0.044      0.000                    \n",
       "25  0.660                        0.170      0.561                    \n",
       "26  0.745                        0.188      0.247                    \n",
       "27  0.562                        0.067      0.178                    \n",
       "28  0.683                        0.102      0.254                    \n",
       "29  0.494                        0.128      0.022                    \n",
       "30  0.682                        0.093      0.170                    \n",
       "⋮   ⋮                            ⋮          ⋮                        \n",
       "108 0.511                        0.141      0.102                    \n",
       "109 0.540                        0.154      0.140                    \n",
       "110 0.259                        0.022      0.016                    \n",
       "111 0.418                        0.291      0.055                    \n",
       "112 0.539                        0.120      0.086                    \n",
       "113 0.425                        0.197      0.051                    \n",
       "114 0.393                        0.255      0.088                    \n",
       "115 0.768                        0.176      0.051                    \n",
       "116 0.481                        0.114      0.253                    \n",
       "117 0.460                        0.400      0.194                    \n",
       "118 0.617                        0.139      0.165                    \n",
       "119 0.286                        0.332      0.033                    \n",
       "120 0.441                        0.121      0.059                    \n",
       "121 0.467                        0.038      0.250                    \n",
       "122 0.367                        0.149      0.136                    \n",
       "123 0.517                        0.056      0.173                    \n",
       "124 0.451                        0.283      0.101                    \n",
       "125 0.471                        0.219      0.071                    \n",
       "126 0.685                        0.175      0.111                    \n",
       "127 0.187                        0.177      0.134                    \n",
       "128 0.545                        0.189      0.080                    \n",
       "129 0.607                        0.234      0.269                    \n",
       "130 0.117                        0.129      0.145                    \n",
       "131 0.490                        0.139      0.129                    \n",
       "132 0.480                        0.021      0.071                    \n",
       "133 0.375                        0.183      0.068                    \n",
       "134 0.363                        0.112      0.117                    \n",
       "135 0.371                        0.193      0.051                    \n",
       "136 0.123                        0.061      0.027                    \n",
       "137 0.000                        0.093      0.059                    "
      ]
     },
     "metadata": {},
     "output_type": "display_data"
    }
   ],
   "source": [
    "data <- read.csv(\"/Users/nicol/OneDrive/Документы/Я у мамы программист/R/Lab1/WHR_2023.csv\", header = TRUE)\n",
    "View(data)\n",
    "#вектор спостережень: рівень щастя в різних країнах\n",
    "dataHappiness <- data[, \"happiness_score\"]\n"
   ]
  },
  {
   "cell_type": "code",
   "execution_count": 7,
   "id": "94edbb00",
   "metadata": {},
   "outputs": [
    {
     "data": {
      "image/png": "[encoded data removed]",
      "text/plain": [
       "plot without title"
      ]
     },
     "metadata": {
      "image/png": {
       "height": 420,
       "width": 420
      }
     },
     "output_type": "display_data"
    }
   ],
   "source": [
    "p<-ggplot(data.frame(dataHappiness), aes(x = dataHappiness)) +\n",
    "  geom_density(fill = \"blue\", alpha = 0.5)+\n",
    "  labs(\n",
    "    title = \"Density Plot\",\n",
    "    x = \"X-axis Label\",\n",
    "    y = \"Density\"\n",
    "  )\n",
    "p+geom_vline(aes(xintercept=mean(dataHappiness)),\n",
    "            color=\"blue\", linetype=\"dashed\", size=1)"
   ]
  },
  {
   "cell_type": "markdown",
   "id": "ecc1bb58",
   "metadata": {},
   "source": [
    "## 1) Підрахувати показники центру: середнє значення, медіану"
   ]
  },
  {
   "cell_type": "code",
   "execution_count": 8,
   "id": "4ca741fd",
   "metadata": {},
   "outputs": [
    {
     "data": {
      "text/html": [
       "5.53979562043796"
      ],
      "text/latex": [
       "5.53979562043796"
      ],
      "text/markdown": [
       "5.53979562043796"
      ],
      "text/plain": [
       "[1] 5.539796"
      ]
     },
     "metadata": {},
     "output_type": "display_data"
    }
   ],
   "source": [
    "#Вибіркове середнє\n",
    "mean(dataHappiness)"
   ]
  },
  {
   "cell_type": "code",
   "execution_count": 9,
   "id": "74af1400",
   "metadata": {},
   "outputs": [
    {
     "data": {
      "text/html": [
       "5.684"
      ],
      "text/latex": [
       "5.684"
      ],
      "text/markdown": [
       "5.684"
      ],
      "text/plain": [
       "[1] 5.684"
      ]
     },
     "metadata": {},
     "output_type": "display_data"
    }
   ],
   "source": [
    "#Медіана\n",
    "median(dataHappiness)"
   ]
  },
  {
   "cell_type": "markdown",
   "id": "e8f8c09f",
   "metadata": {},
   "source": [
    "## 2) Підрахувати показники варіації: дисперсію, стандартне відхилення, коефіцієнт варіації, розмах варіації та інтерквартильний розмах"
   ]
  },
  {
   "cell_type": "code",
   "execution_count": 2,
   "id": "aadf563d",
   "metadata": {},
   "outputs": [
    {
     "data": {
      "text/html": [
       "1.29943754615715"
      ],
      "text/latex": [
       "1.29943754615715"
      ],
      "text/markdown": [
       "1.29943754615715"
      ],
      "text/plain": [
       "[1] 1.299438"
      ]
     },
     "metadata": {},
     "output_type": "display_data"
    }
   ],
   "source": [
    "#Дисперсія:\n",
    "var(dataHappiness)"
   ]
  },
  {
   "cell_type": "code",
   "execution_count": 3,
   "id": "a3b44aa2",
   "metadata": {},
   "outputs": [
    {
     "data": {
      "text/html": [
       "1.13992874608773"
      ],
      "text/latex": [
       "1.13992874608773"
      ],
      "text/markdown": [
       "1.13992874608773"
      ],
      "text/plain": [
       "[1] 1.139929"
      ]
     },
     "metadata": {},
     "output_type": "display_data"
    }
   ],
   "source": [
    "#Стандартне відхилення\n",
    "averageDeviation <- sd(dataHappiness)\n",
    "averageDeviation"
   ]
  },
  {
   "cell_type": "code",
   "execution_count": 13,
   "id": "fd08cc21",
   "metadata": {},
   "outputs": [
    {
     "data": {
      "text/html": [
       "0.205770902789662"
      ],
      "text/latex": [
       "0.205770902789662"
      ],
      "text/markdown": [
       "0.205770902789662"
      ],
      "text/plain": [
       "[1] 0.2057709"
      ]
     },
     "metadata": {},
     "output_type": "display_data"
    }
   ],
   "source": [
    "# Коефіцієнт варіації:\n",
    "averageDeviation / mean(dataHappiness)"
   ]
  },
  {
   "cell_type": "code",
   "execution_count": 14,
   "id": "3f1a50f7",
   "metadata": {},
   "outputs": [
    {
     "data": {
      "text/html": [
       "<style>\n",
       ".list-inline {list-style: none; margin:0; padding: 0}\n",
       ".list-inline>li {display: inline-block}\n",
       ".list-inline>li:not(:last-child)::after {content: \"\\00b7\"; padding: 0 .5ex}\n",
       "</style>\n",
       "<ol class=list-inline><li>1.859</li><li>7.804</li></ol>\n"
      ],
      "text/latex": [
       "\\begin{enumerate*}\n",
       "\\item 1.859\n",
       "\\item 7.804\n",
       "\\end{enumerate*}\n"
      ],
      "text/markdown": [
       "1. 1.859\n",
       "2. 7.804\n",
       "\n",
       "\n"
      ],
      "text/plain": [
       "[1] 1.859 7.804"
      ]
     },
     "metadata": {},
     "output_type": "display_data"
    }
   ],
   "source": [
    "# Розмах варіації:\n",
    "range(dataHappiness)"
   ]
  },
  {
   "cell_type": "code",
   "execution_count": 15,
   "id": "85bb0973",
   "metadata": {},
   "outputs": [
    {
     "data": {
      "text/html": [
       "5.945"
      ],
      "text/latex": [
       "5.945"
      ],
      "text/markdown": [
       "5.945"
      ],
      "text/plain": [
       "[1] 5.945"
      ]
     },
     "metadata": {},
     "output_type": "display_data"
    }
   ],
   "source": [
    "max(dataHappiness) - min(dataHappiness)"
   ]
  },
  {
   "cell_type": "code",
   "execution_count": 16,
   "id": "09defc29",
   "metadata": {},
   "outputs": [
    {
     "data": {
      "text/html": [
       "1.61"
      ],
      "text/latex": [
       "1.61"
      ],
      "text/markdown": [
       "1.61"
      ],
      "text/plain": [
       "[1] 1.61"
      ]
     },
     "metadata": {},
     "output_type": "display_data"
    }
   ],
   "source": [
    "# Інтерквартильний розмах:\n",
    "IQR(dataHappiness)"
   ]
  },
  {
   "cell_type": "markdown",
   "id": "72652925",
   "metadata": {},
   "source": [
    "## 3. Побудувати ящик з вусами"
   ]
  },
  {
   "cell_type": "code",
   "execution_count": 19,
   "id": "dd258465",
   "metadata": {},
   "outputs": [
    {
     "data": {
      "image/png": "[encoded data removed]",
      "text/plain": [
       "plot without title"
      ]
     },
     "metadata": {
      "image/png": {
       "height": 420,
       "width": 420
      }
     },
     "output_type": "display_data"
    }
   ],
   "source": [
    "bp <-ggplot(data.frame(dataHappiness), aes(x = dataHappiness)) + geom_boxplot()\n",
    "bp"
   ]
  },
  {
   "cell_type": "markdown",
   "id": "9e98837f",
   "metadata": {},
   "source": [
    "## 4) Вивести п’ятиточкову характеристику (екстремальні точки та квартилі)"
   ]
  },
  {
   "cell_type": "code",
   "execution_count": 20,
   "id": "cdcc3851",
   "metadata": {},
   "outputs": [
    {
     "data": {
      "text/html": [
       "<style>\n",
       ".dl-inline {width: auto; margin:0; padding: 0}\n",
       ".dl-inline>dt, .dl-inline>dd {float: none; width: auto; display: inline-block}\n",
       ".dl-inline>dt::after {content: \":\\0020\"; padding-right: .5ex}\n",
       ".dl-inline>dt:not(:first-of-type) {padding-left: .5ex}\n",
       "</style><dl class=dl-inline><dt>0%</dt><dd>1.859</dd><dt>25%</dt><dd>4.724</dd><dt>50%</dt><dd>5.684</dd><dt>75%</dt><dd>6.334</dd><dt>100%</dt><dd>7.804</dd></dl>\n"
      ],
      "text/latex": [
       "\\begin{description*}\n",
       "\\item[0\\textbackslash{}\\%] 1.859\n",
       "\\item[25\\textbackslash{}\\%] 4.724\n",
       "\\item[50\\textbackslash{}\\%] 5.684\n",
       "\\item[75\\textbackslash{}\\%] 6.334\n",
       "\\item[100\\textbackslash{}\\%] 7.804\n",
       "\\end{description*}\n"
      ],
      "text/markdown": [
       "0%\n",
       ":   1.85925%\n",
       ":   4.72450%\n",
       ":   5.68475%\n",
       ":   6.334100%\n",
       ":   7.804\n",
       "\n"
      ],
      "text/plain": [
       "   0%   25%   50%   75%  100% \n",
       "1.859 4.724 5.684 6.334 7.804 "
      ]
     },
     "metadata": {},
     "output_type": "display_data"
    }
   ],
   "source": [
    "quantile(dataHappiness)"
   ]
  },
  {
   "cell_type": "markdown",
   "id": "41d5214f",
   "metadata": {},
   "source": [
    "## 5) Знайти 1-й та 9-й децилі"
   ]
  },
  {
   "cell_type": "code",
   "execution_count": 21,
   "id": "fc89a61a",
   "metadata": {},
   "outputs": [
    {
     "data": {
      "text/html": [
       "<style>\n",
       ".dl-inline {width: auto; margin:0; padding: 0}\n",
       ".dl-inline>dt, .dl-inline>dd {float: none; width: auto; display: inline-block}\n",
       ".dl-inline>dt::after {content: \":\\0020\"; padding-right: .5ex}\n",
       ".dl-inline>dt:not(:first-of-type) {padding-left: .5ex}\n",
       "</style><dl class=dl-inline><dt>10%</dt><dd>4.1084</dd><dt>90%</dt><dd>6.9008</dd></dl>\n"
      ],
      "text/latex": [
       "\\begin{description*}\n",
       "\\item[10\\textbackslash{}\\%] 4.1084\n",
       "\\item[90\\textbackslash{}\\%] 6.9008\n",
       "\\end{description*}\n"
      ],
      "text/markdown": [
       "10%\n",
       ":   4.108490%\n",
       ":   6.9008\n",
       "\n"
      ],
      "text/plain": [
       "   10%    90% \n",
       "4.1084 6.9008 "
      ]
     },
     "metadata": {},
     "output_type": "display_data"
    }
   ],
   "source": [
    "quantile(dataHappiness, p = c(0.1, 0.9))"
   ]
  },
  {
   "cell_type": "markdown",
   "id": "8952e64b",
   "metadata": {},
   "source": [
    "## 6)  Знайти коефіцієнт асиметрії та коефіцієнт ексцесу"
   ]
  },
  {
   "cell_type": "code",
   "execution_count": 22,
   "id": "cb4be65b",
   "metadata": {},
   "outputs": [
    {
     "data": {
      "text/html": [
       "-0.45185771637177"
      ],
      "text/latex": [
       "-0.45185771637177"
      ],
      "text/markdown": [
       "-0.45185771637177"
      ],
      "text/plain": [
       "[1] -0.4518577"
      ]
     },
     "metadata": {},
     "output_type": "display_data"
    }
   ],
   "source": [
    "# Коефіцієнт асиметрії:\n",
    "skewness(dataHappiness)"
   ]
  },
  {
   "cell_type": "code",
   "execution_count": 23,
   "id": "58219671",
   "metadata": {},
   "outputs": [
    {
     "data": {
      "text/html": [
       "3.01791495882742"
      ],
      "text/latex": [
       "3.01791495882742"
      ],
      "text/markdown": [
       "3.01791495882742"
      ],
      "text/plain": [
       "[1] 3.017915"
      ]
     },
     "metadata": {},
     "output_type": "display_data"
    }
   ],
   "source": [
    "# Коефіцієнт ексцесу:\n",
    "kurtosis(dataHappiness)"
   ]
  },
  {
   "cell_type": "markdown",
   "id": "6804eb55",
   "metadata": {},
   "source": [
    "## 7) Побудувати гістограму, використовуючи різні методи групування (базове правило, правило Скотта, правило Фрідмана-Діаконіса). На тому ж графіку (одному з них) зобразити оцінку щільності та графік щільності гіпотетичного розподілу. Сформулювати припущення щодо типу розподілу, що спостерігається."
   ]
  },
  {
   "cell_type": "code",
   "execution_count": 24,
   "id": "398aba9f",
   "metadata": {},
   "outputs": [
    {
     "data": {
      "image/png": "[encoded data removed]",
      "text/plain": [
       "Plot with title \"Histogram with Sturges' Method\""
      ]
     },
     "metadata": {
      "image/png": {
       "height": 420,
       "width": 420
      }
     },
     "output_type": "display_data"
    }
   ],
   "source": [
    "# Гістограма з базовим методом групування\n",
    "hist(dataHappiness, breaks = \"Sturges\", main = \"Histogram with Sturges' Method\")"
   ]
  },
  {
   "cell_type": "code",
   "execution_count": 25,
   "id": "a4cefafb",
   "metadata": {},
   "outputs": [
    {
     "data": {
      "image/png": "[encoded data removed]",
      "text/plain": [
       "Plot with title \"Histogram with Scott's Rule\""
      ]
     },
     "metadata": {
      "image/png": {
       "height": 420,
       "width": 420
      }
     },
     "output_type": "display_data"
    }
   ],
   "source": [
    "# Гістограма з правилом Скотта\n",
    "hist(dataHappiness, breaks = \"Scott\", main = \"Histogram with Scott's Rule\")"
   ]
  },
  {
   "cell_type": "code",
   "execution_count": 241,
   "id": "00ad7a62",
   "metadata": {},
   "outputs": [
    {
     "data": {
      "image/png": "[encoded data removed]",
      "text/plain": [
       "Plot with title \"Histogram with Freedman-Diaconis Rule\""
      ]
     },
     "metadata": {
      "image/png": {
       "height": 420,
       "width": 420
      }
     },
     "output_type": "display_data"
    }
   ],
   "source": [
    "# Гістограма з правилом Фрідмана-Діаконіса\n",
    "hist(dataHappiness, breaks = \"FD\", main = \"Histogram with Freedman-Diaconis Rule\")"
   ]
  },
  {
   "cell_type": "code",
   "execution_count": 242,
   "id": "fa847ae7",
   "metadata": {},
   "outputs": [
    {
     "data": {
      "image/png": "[encoded data removed]",
      "text/plain": [
       "Plot with title \"Гістограму з теоретичною щільністю\""
      ]
     },
     "metadata": {
      "image/png": {
       "height": 420,
       "width": 420
      }
     },
     "output_type": "display_data"
    }
   ],
   "source": [
    "hd.values = histDist(dataHappiness, family = NO, density = TRUE, xlab='населення в містах', ylab='', main='Гістограму з теоретичною щільністю')"
   ]
  },
  {
   "cell_type": "markdown",
   "id": "6b8a457e",
   "metadata": {},
   "source": [
    "## 8) Зобразити Q-Q-діаграму для перевірки узгодженості з гіпотетичним розподілом."
   ]
  },
  {
   "cell_type": "code",
   "execution_count": 243,
   "id": "e4785ea2",
   "metadata": {},
   "outputs": [
    {
     "data": {
      "image/png": "[encoded data removed]",
      "text/plain": [
       "Plot with title \"Q-Q Plot for Normal Distribution\""
      ]
     },
     "metadata": {
      "image/png": {
       "height": 420,
       "width": 420
      }
     },
     "output_type": "display_data"
    }
   ],
   "source": [
    "qqnorm(dataHappiness, main = \"Q-Q Plot for Normal Distribution\")\n",
    "qqline(dataHappiness, col = \"red\")"
   ]
  },
  {
   "cell_type": "markdown",
   "id": "8d0ca5d9",
   "metadata": {},
   "source": [
    "## 9) Зобразити P-P-діаграму для перевірки узгодженості з гіпотетичним розподілом\n"
   ]
  },
  {
   "cell_type": "code",
   "execution_count": 248,
   "id": "ecea267f",
   "metadata": {},
   "outputs": [
    {
     "data": {
      "image/png": "[encoded data removed]",
      "text/plain": [
       "plot without title"
      ]
     },
     "metadata": {
      "image/png": {
       "height": 420,
       "width": 420
      }
     },
     "output_type": "display_data"
    }
   ],
   "source": [
    "ggplot(data = data.frame(dataHappiness), aes(sample = dataHappiness)) +\n",
    "    stat_pp_band() +\n",
    "    stat_pp_line() +\n",
    "    stat_pp_point() +\n",
    "    labs(x = \"Емпірична функція розподілу\", y = \"Теоретична функція розподілу\")"
   ]
  },
  {
   "cell_type": "code",
   "execution_count": 254,
   "id": "ea2c4ba2",
   "metadata": {},
   "outputs": [
    {
     "data": {
      "text/plain": [
       "\n",
       "\tCramer-von Mises test of goodness-of-fit\n",
       "\tNull hypothesis: Normal distribution\n",
       "\twith parameters mean = 5.53979562043796, sd = 1.13992874608773\n",
       "\tParameters assumed to be fixed\n",
       "\n",
       "data:  dataHappiness\n",
       "omega2 = 0.0928, p-value = 0.622\n"
      ]
     },
     "metadata": {},
     "output_type": "display_data"
    }
   ],
   "source": [
    "cvm.test(dataHappiness, \"pnorm\",mean = mean(dataHappines), sd = sd(dataHappiness))"
   ]
  }
 ],
 "metadata": {
  "kernelspec": {
   "display_name": "R",
   "language": "R",
   "name": "ir"
  },
  "language_info": {
   "codemirror_mode": "r",
   "file_extension": ".r",
   "mimetype": "text/x-r-source",
   "name": "R",
   "pygments_lexer": "r",
   "version": "4.3.1"
  }
 },
 "nbformat": 4,
 "nbformat_minor": 5
}
